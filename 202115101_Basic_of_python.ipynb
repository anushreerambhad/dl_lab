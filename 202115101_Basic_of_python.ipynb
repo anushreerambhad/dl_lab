{
  "nbformat": 4,
  "nbformat_minor": 0,
  "metadata": {
    "colab": {
      "name": "202115101_Basic_of_python.ipynb",
      "provenance": [],
      "collapsed_sections": []
    },
    "kernelspec": {
      "name": "python3",
      "display_name": "Python 3"
    }
  },
  "cells": [
    {
      "cell_type": "code",
      "metadata": {
        "colab": {
          "base_uri": "https://localhost:8080/"
        },
        "id": "3GR-QwXPPFv4",
        "outputId": "ae33418b-2460-4667-a2b6-39560893392d"
      },
      "source": [
        "#creation of list\r\n",
        "list1 = ['ele1','ele2','ele3','ele4']\r\n",
        "list2 = ['ele5','ele6','ele1','ele2']\r\n",
        "#concatenation of lists\r\n",
        "list3 = list1 + list2\r\n",
        "list3"
      ],
      "execution_count": 2,
      "outputs": [
        {
          "output_type": "execute_result",
          "data": {
            "text/plain": [
              "['ele1', 'ele2', 'ele3', 'ele4', 'ele5', 'ele6', 'ele1', 'ele2']"
            ]
          },
          "metadata": {
            "tags": []
          },
          "execution_count": 2
        }
      ]
    },
    {
      "cell_type": "code",
      "metadata": {
        "colab": {
          "base_uri": "https://localhost:8080/"
        },
        "id": "BnFm4QFfQUtn",
        "outputId": "563cd605-19fc-4e9f-9663-54d4fa17bf66"
      },
      "source": [
        "#removing duplicates \r\n",
        "#list is converted to set\r\n",
        "set(list3)\r\n",
        "\r\n",
        "#append operation in list\r\n",
        "list3.append('appended_element')\r\n",
        "list3\r\n"
      ],
      "execution_count": 8,
      "outputs": [
        {
          "output_type": "execute_result",
          "data": {
            "text/plain": [
              "['ele1',\n",
              " 'ele2',\n",
              " 'ele3',\n",
              " 'ele4',\n",
              " 'ele5',\n",
              " 'ele6',\n",
              " 'ele1',\n",
              " 'ele2',\n",
              " 'appended_element',\n",
              " 'appended_element']"
            ]
          },
          "metadata": {
            "tags": []
          },
          "execution_count": 8
        }
      ]
    },
    {
      "cell_type": "code",
      "metadata": {
        "colab": {
          "base_uri": "https://localhost:8080/"
        },
        "id": "C2wNMc4GRv_1",
        "outputId": "3ea4df25-e554-4db2-a5f3-11718660bb83"
      },
      "source": [
        "#Remove operation in list \r\n",
        "list3.remove('appended_element')\r\n",
        "list3"
      ],
      "execution_count": 9,
      "outputs": [
        {
          "output_type": "execute_result",
          "data": {
            "text/plain": [
              "['ele1',\n",
              " 'ele2',\n",
              " 'ele3',\n",
              " 'ele4',\n",
              " 'ele5',\n",
              " 'ele6',\n",
              " 'ele1',\n",
              " 'ele2',\n",
              " 'appended_element']"
            ]
          },
          "metadata": {
            "tags": []
          },
          "execution_count": 9
        }
      ]
    },
    {
      "cell_type": "code",
      "metadata": {
        "colab": {
          "base_uri": "https://localhost:8080/",
          "height": 35
        },
        "id": "nfIF58l_Rx5n",
        "outputId": "e1b390b4-e5bd-4703-abac-5b6339fa1367"
      },
      "source": [
        "#Pop operation in list\r\n",
        "list3.pop()"
      ],
      "execution_count": 10,
      "outputs": [
        {
          "output_type": "execute_result",
          "data": {
            "application/vnd.google.colaboratory.intrinsic+json": {
              "type": "string"
            },
            "text/plain": [
              "'appended_element'"
            ]
          },
          "metadata": {
            "tags": []
          },
          "execution_count": 10
        }
      ]
    },
    {
      "cell_type": "code",
      "metadata": {
        "colab": {
          "base_uri": "https://localhost:8080/"
        },
        "id": "uiml_93TR92n",
        "outputId": "6bdea41b-632e-4630-eed0-85d52903c52d"
      },
      "source": [
        "list3"
      ],
      "execution_count": 11,
      "outputs": [
        {
          "output_type": "execute_result",
          "data": {
            "text/plain": [
              "['ele1', 'ele2', 'ele3', 'ele4', 'ele5', 'ele6', 'ele1', 'ele2']"
            ]
          },
          "metadata": {
            "tags": []
          },
          "execution_count": 11
        }
      ]
    },
    {
      "cell_type": "code",
      "metadata": {
        "colab": {
          "base_uri": "https://localhost:8080/"
        },
        "id": "d3Ut-5GvSDBQ",
        "outputId": "f68950ef-0ae1-4e0f-a833-865c585caed8"
      },
      "source": [
        "#Reverse operation list\r\n",
        "list3.reverse()\r\n",
        "list3\r\n",
        "#sort list\r\n",
        "list3.sort()\r\n",
        "#copying list \r\n",
        "list4=list3.copy()\r\n",
        "list4\r\n"
      ],
      "execution_count": 13,
      "outputs": [
        {
          "output_type": "execute_result",
          "data": {
            "text/plain": [
              "['ele1', 'ele1', 'ele2', 'ele2', 'ele3', 'ele4', 'ele5', 'ele6']"
            ]
          },
          "metadata": {
            "tags": []
          },
          "execution_count": 13
        }
      ]
    },
    {
      "cell_type": "code",
      "metadata": {
        "colab": {
          "base_uri": "https://localhost:8080/"
        },
        "id": "QWiZamtuTSX-",
        "outputId": "a9e26e58-8f0d-4459-c45f-2e3e183dd6d5"
      },
      "source": [
        "# for deleting elements in list\r\n",
        "list3.clear()\r\n",
        "list3"
      ],
      "execution_count": 18,
      "outputs": [
        {
          "output_type": "execute_result",
          "data": {
            "text/plain": [
              "[]"
            ]
          },
          "metadata": {
            "tags": []
          },
          "execution_count": 18
        }
      ]
    },
    {
      "cell_type": "code",
      "metadata": {
        "colab": {
          "base_uri": "https://localhost:8080/"
        },
        "id": "bqHjun9VSnXt",
        "outputId": "e8476737-09b7-4765-cd64-1fc2f1193a57"
      },
      "source": [
        "#counting occurance of perticuler element\r\n",
        "list3.count('éle1')\r\n",
        "list3.count('ele4')"
      ],
      "execution_count": 15,
      "outputs": [
        {
          "output_type": "execute_result",
          "data": {
            "text/plain": [
              "1"
            ]
          },
          "metadata": {
            "tags": []
          },
          "execution_count": 15
        }
      ]
    },
    {
      "cell_type": "code",
      "metadata": {
        "colab": {
          "base_uri": "https://localhost:8080/"
        },
        "id": "AnH2rfK_Tkp5",
        "outputId": "88c5776c-cb58-404b-ceaa-f63b8b10b470"
      },
      "source": [
        "#tuple operations\r\n",
        "#Declaration of tuple\r\n",
        "tuple1 = ('tup_ele1','tup_ele2','tup_ele3','tup_ele3')\r\n",
        "tuple1"
      ],
      "execution_count": 19,
      "outputs": [
        {
          "output_type": "execute_result",
          "data": {
            "text/plain": [
              "('tup_ele1', 'tup_ele2', 'tup_ele3', 'tup_ele3')"
            ]
          },
          "metadata": {
            "tags": []
          },
          "execution_count": 19
        }
      ]
    },
    {
      "cell_type": "code",
      "metadata": {
        "colab": {
          "base_uri": "https://localhost:8080/"
        },
        "id": "shfay7EWvkGG",
        "outputId": "b48821b9-874f-4f05-cd9b-be32a917c987"
      },
      "source": [
        "#Counting occurance of element\r\n",
        "tuple1.count('tup_ele1')\r\n",
        "#Fetching index of element\r\n",
        "tuple1.index('tup_ele2')"
      ],
      "execution_count": 23,
      "outputs": [
        {
          "output_type": "execute_result",
          "data": {
            "text/plain": [
              "1"
            ]
          },
          "metadata": {
            "tags": []
          },
          "execution_count": 23
        }
      ]
    },
    {
      "cell_type": "code",
      "metadata": {
        "colab": {
          "base_uri": "https://localhost:8080/"
        },
        "id": "bjt6yC5iwDuN",
        "outputId": "5f254c2c-80d7-4cb7-ee99-1bf27797d0b7"
      },
      "source": [
        "#Dictionary declartion\r\n",
        "dict1 = {\r\n",
        "  \"key1\": \"value1\",\r\n",
        "  \"key2\": \"value2\",\r\n",
        "  \"key3\": \"value3\"\r\n",
        "}\r\n",
        "print(type(dict1))"
      ],
      "execution_count": 24,
      "outputs": [
        {
          "output_type": "stream",
          "text": [
            "<class 'dict'>\n"
          ],
          "name": "stdout"
        }
      ]
    },
    {
      "cell_type": "code",
      "metadata": {
        "colab": {
          "base_uri": "https://localhost:8080/"
        },
        "id": "RyjT2J0TIsyg",
        "outputId": "852661d4-97e4-4dec-b9ed-3f0046e6e680"
      },
      "source": [
        "#Displaying all keys\r\n",
        "dict1.keys()"
      ],
      "execution_count": 25,
      "outputs": [
        {
          "output_type": "execute_result",
          "data": {
            "text/plain": [
              "dict_keys(['key1', 'key2', 'key3'])"
            ]
          },
          "metadata": {
            "tags": []
          },
          "execution_count": 25
        }
      ]
    },
    {
      "cell_type": "code",
      "metadata": {
        "colab": {
          "base_uri": "https://localhost:8080/"
        },
        "id": "EITB8n_VI4IK",
        "outputId": "eb4f0510-7d03-470e-896d-629f671b0b79"
      },
      "source": [
        "#Displaying values \r\n",
        "dict1.values()\r\n"
      ],
      "execution_count": 26,
      "outputs": [
        {
          "output_type": "execute_result",
          "data": {
            "text/plain": [
              "dict_values(['value1', 'value2', 'value3'])"
            ]
          },
          "metadata": {
            "tags": []
          },
          "execution_count": 26
        }
      ]
    },
    {
      "cell_type": "code",
      "metadata": {
        "colab": {
          "base_uri": "https://localhost:8080/"
        },
        "id": "WZNczZlpJAKW",
        "outputId": "294d2284-4546-4954-d65a-0157851d71df"
      },
      "source": [
        "#updating value in dictionary\r\n",
        "dict1['key1'] = 'value4'\r\n",
        "dict1.update({\"key1\": 'value1'})\r\n",
        "dict1"
      ],
      "execution_count": 31,
      "outputs": [
        {
          "output_type": "execute_result",
          "data": {
            "text/plain": [
              "{'key1': 'value1', 'key2': 'value2', 'key3': 'value3'}"
            ]
          },
          "metadata": {
            "tags": []
          },
          "execution_count": 31
        }
      ]
    },
    {
      "cell_type": "code",
      "metadata": {
        "colab": {
          "base_uri": "https://localhost:8080/"
        },
        "id": "-Eg7NmUhJlX8",
        "outputId": "4622ca81-84fb-4f32-b194-8bed2fbe651a"
      },
      "source": [
        "#Inserting dictionary\r\n",
        "dict1['key4'] = 'value4'\r\n",
        "dict1"
      ],
      "execution_count": 32,
      "outputs": [
        {
          "output_type": "execute_result",
          "data": {
            "text/plain": [
              "{'key1': 'value1', 'key2': 'value2', 'key3': 'value3', 'key4': 'value4'}"
            ]
          },
          "metadata": {
            "tags": []
          },
          "execution_count": 32
        }
      ]
    },
    {
      "cell_type": "code",
      "metadata": {
        "colab": {
          "base_uri": "https://localhost:8080/"
        },
        "id": "nujBiQ3VKohO",
        "outputId": "5a200da9-f1f2-4671-b9a9-297a3cb07adb"
      },
      "source": [
        "#Deleting last element of dictionary\r\n",
        "print(dict1.pop(\"key4\"))\r\n",
        "dict1\r\n"
      ],
      "execution_count": 41,
      "outputs": [
        {
          "output_type": "stream",
          "text": [
            "value4\n"
          ],
          "name": "stdout"
        },
        {
          "output_type": "execute_result",
          "data": {
            "text/plain": [
              "{'key1': 'value1', 'key2': 'value2', 'key3': 'value3'}"
            ]
          },
          "metadata": {
            "tags": []
          },
          "execution_count": 41
        }
      ]
    },
    {
      "cell_type": "code",
      "metadata": {
        "colab": {
          "base_uri": "https://localhost:8080/"
        },
        "id": "7Zh8k7QbLN9q",
        "outputId": "3183aea4-99cb-4adf-ae35-fbc9e91621d0"
      },
      "source": [
        "print(dict1.popitem())\r\n",
        "dict1"
      ],
      "execution_count": 42,
      "outputs": [
        {
          "output_type": "stream",
          "text": [
            "('key3', 'value3')\n"
          ],
          "name": "stdout"
        },
        {
          "output_type": "execute_result",
          "data": {
            "text/plain": [
              "{'key1': 'value1', 'key2': 'value2'}"
            ]
          },
          "metadata": {
            "tags": []
          },
          "execution_count": 42
        }
      ]
    },
    {
      "cell_type": "code",
      "metadata": {
        "colab": {
          "base_uri": "https://localhost:8080/"
        },
        "id": "f9FFsLk9L55s",
        "outputId": "1e3d43d8-824d-4db6-99fb-f8bf502b7eab"
      },
      "source": [
        "#copying dictionary\r\n",
        "dict2 = dict1.copy()\r\n",
        "dict2"
      ],
      "execution_count": 43,
      "outputs": [
        {
          "output_type": "execute_result",
          "data": {
            "text/plain": [
              "{'key1': 'value1', 'key2': 'value2'}"
            ]
          },
          "metadata": {
            "tags": []
          },
          "execution_count": 43
        }
      ]
    },
    {
      "cell_type": "code",
      "metadata": {
        "colab": {
          "base_uri": "https://localhost:8080/"
        },
        "id": "fUIgbyiVMErs",
        "outputId": "eab2141b-deb9-4888-f5ee-fde400f2df7f"
      },
      "source": [
        "#numpy functionalities\r\n",
        "import numpy as np\r\n",
        "#Checking numpy version\r\n",
        "print(np.__version__)"
      ],
      "execution_count": 44,
      "outputs": [
        {
          "output_type": "stream",
          "text": [
            "1.19.4\n"
          ],
          "name": "stdout"
        }
      ]
    },
    {
      "cell_type": "code",
      "metadata": {
        "colab": {
          "base_uri": "https://localhost:8080/"
        },
        "id": "t_AgKjxwQ39Q",
        "outputId": "cbb20dc4-5c80-4210-df58-1350de895091"
      },
      "source": [
        "#one dimension array declaration\r\n",
        "one_dim = np.array([1, 2, 3, 4, 5])\r\n",
        "#Printing array\r\n",
        "print(one_dim)\r\n",
        "#Finding dimension of array\r\n",
        "one_dim.ndim\r\n",
        "#Accessing array element\r\n",
        "one_dim[4]\r\n",
        "#Two dimension array declaration\r\n",
        "two_dim = np.array([[1,2,3],[4,5,6]])\r\n",
        "#Printing array\r\n",
        "two_dim\r\n",
        "#Finding dimension of array\r\n",
        "two_dim.ndim\r\n",
        "#Accessing array element\r\n",
        "two_dim[0,2]\r\n"
      ],
      "execution_count": 57,
      "outputs": [
        {
          "output_type": "stream",
          "text": [
            "[1 2 3 4 5]\n"
          ],
          "name": "stdout"
        },
        {
          "output_type": "execute_result",
          "data": {
            "text/plain": [
              "5"
            ]
          },
          "metadata": {
            "tags": []
          },
          "execution_count": 57
        }
      ]
    },
    {
      "cell_type": "code",
      "metadata": {
        "colab": {
          "base_uri": "https://localhost:8080/"
        },
        "id": "DcSu9XTpSMQc",
        "outputId": "e44a8e88-4c62-4886-d80d-f5de17f1d0d2"
      },
      "source": [
        "#Three dimension array declaration\r\n",
        "three_dim = np.array([[ [1,2,3],[4,5,6] ],[ [7,8,9],[10,11,12] ] ])\r\n",
        "#Printing array\r\n",
        "three_dim\r\n",
        "#Finding dimension of array\r\n",
        "three_dim.ndim\r\n",
        "#Accessing array element\r\n",
        "three_dim[1,1,1]"
      ],
      "execution_count": 55,
      "outputs": [
        {
          "output_type": "execute_result",
          "data": {
            "text/plain": [
              "11"
            ]
          },
          "metadata": {
            "tags": []
          },
          "execution_count": 55
        }
      ]
    },
    {
      "cell_type": "code",
      "metadata": {
        "colab": {
          "base_uri": "https://localhost:8080/"
        },
        "id": "JF008ZBVUm-9",
        "outputId": "0400f726-07a6-46c8-ae8b-b80b725b78af"
      },
      "source": [
        "#slicing array\r\n",
        "one_dim[0:3]    #Index 3 is not included [start,end]\r\n",
        "one_dim[0:-1]   #Use of negative index  \r\n",
        "one_dim[0:4:2]  #Step of size=2 [start,end,step]\r\n",
        "one_dim[2:]     #starts with index 2\r\n",
        "one_dim[:2]     #ends with index=1"
      ],
      "execution_count": 64,
      "outputs": [
        {
          "output_type": "execute_result",
          "data": {
            "text/plain": [
              "array([1, 2])"
            ]
          },
          "metadata": {
            "tags": []
          },
          "execution_count": 64
        }
      ]
    },
    {
      "cell_type": "code",
      "metadata": {
        "colab": {
          "base_uri": "https://localhost:8080/"
        },
        "id": "A1HzRFbTXLB7",
        "outputId": "32ff9e6f-c5b5-4f0d-8ab7-f20b2b019caa"
      },
      "source": [
        ""
      ],
      "execution_count": 65,
      "outputs": [
        {
          "output_type": "execute_result",
          "data": {
            "text/plain": [
              "(5,)"
            ]
          },
          "metadata": {
            "tags": []
          },
          "execution_count": 65
        }
      ]
    },
    {
      "cell_type": "code",
      "metadata": {
        "colab": {
          "base_uri": "https://localhost:8080/"
        },
        "id": "IxBVmPdtXRkG",
        "outputId": "4fd06c9b-7a14-43d7-bee9-71e9bb1f34a2"
      },
      "source": [
        "one_dim = np.array([1,2,3,4,5,6,7,8,9,10,11,12])\r\n",
        "one_dim\r\n",
        "#shape of array\r\n",
        "one_dim.shape\r\n"
      ],
      "execution_count": 72,
      "outputs": [
        {
          "output_type": "execute_result",
          "data": {
            "text/plain": [
              "(12,)"
            ]
          },
          "metadata": {
            "tags": []
          },
          "execution_count": 72
        }
      ]
    },
    {
      "cell_type": "code",
      "metadata": {
        "colab": {
          "base_uri": "https://localhost:8080/"
        },
        "id": "TDcGX3VRYYAa",
        "outputId": "8a1728d0-7c1c-47d9-8fed-0c95da6d9b51"
      },
      "source": [
        "#Reshaping of array\r\n",
        "new_one_dim=one_dim.reshape(2,6)\r\n",
        "new_one_dim.shape\r\n",
        "new_one_dim_2=one_dim.reshape(2,2,3)\r\n",
        "new_one_dim_2.shape"
      ],
      "execution_count": 75,
      "outputs": [
        {
          "output_type": "execute_result",
          "data": {
            "text/plain": [
              "(2, 2, 3)"
            ]
          },
          "metadata": {
            "tags": []
          },
          "execution_count": 75
        }
      ]
    },
    {
      "cell_type": "code",
      "metadata": {
        "colab": {
          "base_uri": "https://localhost:8080/"
        },
        "id": "SZWFa7YecoPJ",
        "outputId": "97209ed0-e15a-4d5c-9430-94a55173dfe8"
      },
      "source": [
        "#joining array\r\n",
        "arr1 = np.array([1, 2, 3])\r\n",
        "arr2 = np.array([4, 5, 6])\r\n",
        "arr = np.concatenate((arr1, arr2))\r\n",
        "print(arr)\r\n",
        "two_dim_arr1 = np.array([[1,2],[3,4]])\r\n",
        "two_dim_arr2 = np.array([[5,6],[7,8]])\r\n",
        "arr = np.concatenate((two_dim_arr1, two_dim_arr2), axis=1)\r\n",
        "print(arr)"
      ],
      "execution_count": 80,
      "outputs": [
        {
          "output_type": "stream",
          "text": [
            "[1 2 3 4 5 6]\n",
            "[[1 2 5 6]\n",
            " [3 4 7 8]]\n"
          ],
          "name": "stdout"
        }
      ]
    },
    {
      "cell_type": "code",
      "metadata": {
        "colab": {
          "base_uri": "https://localhost:8080/"
        },
        "id": "xrdd4RK_pUoG",
        "outputId": "54146810-2237-4b5e-bd22-04b4d04bcd35"
      },
      "source": [
        "import pandas as pd\r\n",
        "arr3 = [1, 7, 2]\r\n",
        "#Create a Series\r\n",
        "pd1 = pd.Series(arr3)\r\n",
        "print(pd1)\r\n",
        "#Creation of index\r\n",
        "index1 = [\"index1\", \"index2\",\"index3\"]\r\n",
        "pd2 = pd.Series(arr3,index= index1)"
      ],
      "execution_count": 85,
      "outputs": [
        {
          "output_type": "stream",
          "text": [
            "0    1\n",
            "1    7\n",
            "2    2\n",
            "dtype: int64\n"
          ],
          "name": "stdout"
        }
      ]
    },
    {
      "cell_type": "code",
      "metadata": {
        "colab": {
          "base_uri": "https://localhost:8080/"
        },
        "id": "Ru053vEOre5m",
        "outputId": "05977caa-91c8-436d-847b-1d5c4194a35f"
      },
      "source": [
        "import pandas as pd\r\n",
        "dict_content = {\r\n",
        "  \"List1_index\": [0, 1 , 2 ],\r\n",
        "  \"List2_index\": [3 , 4, 5]\r\n",
        "}\r\n",
        "#Dictionary to dataframe\r\n",
        "pd3=pd.DataFrame(dict_content)\r\n",
        "#Printing Dataframe\r\n",
        "pd3\r\n",
        "#accesing data in column\r\n",
        "pd3[\"List2_index\"]"
      ],
      "execution_count": 95,
      "outputs": [
        {
          "output_type": "execute_result",
          "data": {
            "text/plain": [
              "0    3\n",
              "1    4\n",
              "2    5\n",
              "Name: List2_index, dtype: int64"
            ]
          },
          "metadata": {
            "tags": []
          },
          "execution_count": 95
        }
      ]
    },
    {
      "cell_type": "code",
      "metadata": {
        "colab": {
          "base_uri": "https://localhost:8080/"
        },
        "id": "Z3Pt774AqSYg",
        "outputId": "f85e3909-2a71-4f39-8512-3a0f5af9c4a3"
      },
      "source": [
        "import pandas as pd\r\n",
        "#reading file \r\n",
        "df = pd.read_csv('/content/sample_data/mnist_test.csv') #pd.read_csv(path_of_file)\r\n",
        "print(df) \r\n",
        "df.head()\r\n",
        "df.tail()\r\n",
        "df.info()"
      ],
      "execution_count": 99,
      "outputs": [
        {
          "output_type": "stream",
          "text": [
            "      7  0  0.1  0.2  0.3  0.4  ...  0.662  0.663  0.664  0.665  0.666  0.667\n",
            "0     2  0    0    0    0    0  ...      0      0      0      0      0      0\n",
            "1     1  0    0    0    0    0  ...      0      0      0      0      0      0\n",
            "2     0  0    0    0    0    0  ...      0      0      0      0      0      0\n",
            "3     4  0    0    0    0    0  ...      0      0      0      0      0      0\n",
            "4     1  0    0    0    0    0  ...      0      0      0      0      0      0\n",
            "...  .. ..  ...  ...  ...  ...  ...    ...    ...    ...    ...    ...    ...\n",
            "9994  2  0    0    0    0    0  ...      0      0      0      0      0      0\n",
            "9995  3  0    0    0    0    0  ...      0      0      0      0      0      0\n",
            "9996  4  0    0    0    0    0  ...      0      0      0      0      0      0\n",
            "9997  5  0    0    0    0    0  ...      0      0      0      0      0      0\n",
            "9998  6  0    0    0    0    0  ...      0      0      0      0      0      0\n",
            "\n",
            "[9999 rows x 785 columns]\n",
            "<class 'pandas.core.frame.DataFrame'>\n",
            "RangeIndex: 9999 entries, 0 to 9998\n",
            "Columns: 785 entries, 7 to 0.667\n",
            "dtypes: int64(785)\n",
            "memory usage: 59.9 MB\n"
          ],
          "name": "stdout"
        }
      ]
    }
  ]
}