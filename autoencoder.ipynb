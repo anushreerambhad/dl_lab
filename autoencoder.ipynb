{
  "nbformat": 4,
  "nbformat_minor": 0,
  "metadata": {
    "colab": {
      "name": "autoencoder.ipynb",
      "provenance": []
    },
    "kernelspec": {
      "name": "python3",
      "display_name": "Python 3"
    },
    "language_info": {
      "name": "python"
    }
  },
  "cells": [
    {
      "cell_type": "code",
      "metadata": {
        "id": "WAom-4nzCelj"
      },
      "source": [
        "from keras.models import Model\n",
        "from keras.layers import Input,Dense\n",
        "from keras.datasets import mnist\n",
        "import numpy as np\n",
        "import matplotlib.pyplot as plt"
      ],
      "execution_count": 1,
      "outputs": []
    },
    {
      "cell_type": "code",
      "metadata": {
        "id": "-e1Ru3DkE18S"
      },
      "source": [
        "encoding_dim = 64"
      ],
      "execution_count": 2,
      "outputs": []
    },
    {
      "cell_type": "code",
      "metadata": {
        "id": "6tHHdAwlFG6v"
      },
      "source": [
        "input_img = Input(shape=(784,))\n",
        "encoded = Dense(encoding_dim,activation='relu')(input_img)\n",
        "decoded = Dense(784,activation='sigmoid')(encoded)\n"
      ],
      "execution_count": 3,
      "outputs": []
    },
    {
      "cell_type": "code",
      "metadata": {
        "id": "uCfUm3A_H4rh"
      },
      "source": [
        "autoencoder = Model(input_img,decoded)\n",
        "encoder = Model(input_img,encoded)\n",
        "encoded_input = Input(shape=(encoding_dim))\n",
        "decoder_layer = autoencoder.layers[-1]\n",
        "decoder = Model(encoded_input,decoder_layer(encoded_input))"
      ],
      "execution_count": 4,
      "outputs": []
    },
    {
      "cell_type": "code",
      "metadata": {
        "id": "nlA9Rb_lI2Xv"
      },
      "source": [
        "autoencoder.compile(optimizer='adadelta',loss='binary_crossentropy')"
      ],
      "execution_count": 5,
      "outputs": []
    },
    {
      "cell_type": "code",
      "metadata": {
        "colab": {
          "base_uri": "https://localhost:8080/"
        },
        "id": "YuD5ntWUJMJC",
        "outputId": "512b98d7-08d6-40b0-f53c-67c4b5886a31"
      },
      "source": [
        "(x_train, y_train),(x_test, y_test) = mnist.load_data()"
      ],
      "execution_count": 11,
      "outputs": [
        {
          "output_type": "stream",
          "text": [
            "Downloading data from https://storage.googleapis.com/tensorflow/tf-keras-datasets/mnist.npz\n",
            "11493376/11490434 [==============================] - 0s 0us/step\n"
          ],
          "name": "stdout"
        }
      ]
    },
    {
      "cell_type": "code",
      "metadata": {
        "colab": {
          "base_uri": "https://localhost:8080/"
        },
        "id": "PXxEXAjzLxPh",
        "outputId": "a194f565-ea35-4a16-99b2-0169b3a15f82"
      },
      "source": [
        "x_train"
      ],
      "execution_count": 12,
      "outputs": [
        {
          "output_type": "execute_result",
          "data": {
            "text/plain": [
              "array([[[0, 0, 0, ..., 0, 0, 0],\n",
              "        [0, 0, 0, ..., 0, 0, 0],\n",
              "        [0, 0, 0, ..., 0, 0, 0],\n",
              "        ...,\n",
              "        [0, 0, 0, ..., 0, 0, 0],\n",
              "        [0, 0, 0, ..., 0, 0, 0],\n",
              "        [0, 0, 0, ..., 0, 0, 0]],\n",
              "\n",
              "       [[0, 0, 0, ..., 0, 0, 0],\n",
              "        [0, 0, 0, ..., 0, 0, 0],\n",
              "        [0, 0, 0, ..., 0, 0, 0],\n",
              "        ...,\n",
              "        [0, 0, 0, ..., 0, 0, 0],\n",
              "        [0, 0, 0, ..., 0, 0, 0],\n",
              "        [0, 0, 0, ..., 0, 0, 0]],\n",
              "\n",
              "       [[0, 0, 0, ..., 0, 0, 0],\n",
              "        [0, 0, 0, ..., 0, 0, 0],\n",
              "        [0, 0, 0, ..., 0, 0, 0],\n",
              "        ...,\n",
              "        [0, 0, 0, ..., 0, 0, 0],\n",
              "        [0, 0, 0, ..., 0, 0, 0],\n",
              "        [0, 0, 0, ..., 0, 0, 0]],\n",
              "\n",
              "       ...,\n",
              "\n",
              "       [[0, 0, 0, ..., 0, 0, 0],\n",
              "        [0, 0, 0, ..., 0, 0, 0],\n",
              "        [0, 0, 0, ..., 0, 0, 0],\n",
              "        ...,\n",
              "        [0, 0, 0, ..., 0, 0, 0],\n",
              "        [0, 0, 0, ..., 0, 0, 0],\n",
              "        [0, 0, 0, ..., 0, 0, 0]],\n",
              "\n",
              "       [[0, 0, 0, ..., 0, 0, 0],\n",
              "        [0, 0, 0, ..., 0, 0, 0],\n",
              "        [0, 0, 0, ..., 0, 0, 0],\n",
              "        ...,\n",
              "        [0, 0, 0, ..., 0, 0, 0],\n",
              "        [0, 0, 0, ..., 0, 0, 0],\n",
              "        [0, 0, 0, ..., 0, 0, 0]],\n",
              "\n",
              "       [[0, 0, 0, ..., 0, 0, 0],\n",
              "        [0, 0, 0, ..., 0, 0, 0],\n",
              "        [0, 0, 0, ..., 0, 0, 0],\n",
              "        ...,\n",
              "        [0, 0, 0, ..., 0, 0, 0],\n",
              "        [0, 0, 0, ..., 0, 0, 0],\n",
              "        [0, 0, 0, ..., 0, 0, 0]]], dtype=uint8)"
            ]
          },
          "metadata": {
            "tags": []
          },
          "execution_count": 12
        }
      ]
    },
    {
      "cell_type": "code",
      "metadata": {
        "colab": {
          "base_uri": "https://localhost:8080/"
        },
        "id": "0in8cBkhL4VT",
        "outputId": "5513cff8-82de-44e5-ca1f-78d99adb805a"
      },
      "source": [
        "x_train.ndim\n"
      ],
      "execution_count": 13,
      "outputs": [
        {
          "output_type": "execute_result",
          "data": {
            "text/plain": [
              "3"
            ]
          },
          "metadata": {
            "tags": []
          },
          "execution_count": 13
        }
      ]
    },
    {
      "cell_type": "code",
      "metadata": {
        "id": "Dmal7GSPL9dX"
      },
      "source": [
        "x_train = x_train.astype('float32')/255"
      ],
      "execution_count": 14,
      "outputs": []
    },
    {
      "cell_type": "code",
      "metadata": {
        "id": "MPnEJdfoMK5B"
      },
      "source": [
        "x_test = x_train.astype('float32')/255"
      ],
      "execution_count": 15,
      "outputs": []
    },
    {
      "cell_type": "code",
      "metadata": {
        "id": "coTjG-PZMOxB"
      },
      "source": [
        "x_train = x_train.reshape(len(x_train),(np.prod(x_train.shape[1:])))"
      ],
      "execution_count": 16,
      "outputs": []
    },
    {
      "cell_type": "code",
      "metadata": {
        "id": "0eEOrY6LM2w3"
      },
      "source": [
        "x_test = x_test.reshape(len(x_test),(np.prod(x_test.shape[1:])))"
      ],
      "execution_count": 18,
      "outputs": []
    },
    {
      "cell_type": "code",
      "metadata": {
        "colab": {
          "base_uri": "https://localhost:8080/"
        },
        "id": "rcPpV2htMwZX",
        "outputId": "0f36e5f2-dde3-4ab4-c161-e161a02c1ace"
      },
      "source": [
        "x_train.shape"
      ],
      "execution_count": 17,
      "outputs": [
        {
          "output_type": "execute_result",
          "data": {
            "text/plain": [
              "(60000, 784)"
            ]
          },
          "metadata": {
            "tags": []
          },
          "execution_count": 17
        }
      ]
    },
    {
      "cell_type": "code",
      "metadata": {
        "colab": {
          "base_uri": "https://localhost:8080/"
        },
        "id": "kO_fRiI-M-ND",
        "outputId": "3cb8454a-90e6-4b17-af23-23c87bf11365"
      },
      "source": [
        "x_test.shape"
      ],
      "execution_count": 19,
      "outputs": [
        {
          "output_type": "execute_result",
          "data": {
            "text/plain": [
              "(60000, 784)"
            ]
          },
          "metadata": {
            "tags": []
          },
          "execution_count": 19
        }
      ]
    },
    {
      "cell_type": "code",
      "metadata": {
        "colab": {
          "base_uri": "https://localhost:8080/"
        },
        "id": "qny4DhnkNlXm",
        "outputId": "209f6a0a-94cb-466b-f282-38e00a301b75"
      },
      "source": [
        "autoencoder.fit(x_train,x_train,epochs=150,batch_size=256,shuffle=True,validation_data=(x_test,x_test))"
      ],
      "execution_count": 27,
      "outputs": [
        {
          "output_type": "stream",
          "text": [
            "Epoch 1/150\n",
            "235/235 [==============================] - 4s 17ms/step - loss: 0.6725 - val_loss: 0.6899\n",
            "Epoch 2/150\n",
            "235/235 [==============================] - 4s 16ms/step - loss: 0.6718 - val_loss: 0.6898\n",
            "Epoch 3/150\n",
            "235/235 [==============================] - 4s 16ms/step - loss: 0.6711 - val_loss: 0.6898\n",
            "Epoch 4/150\n",
            "235/235 [==============================] - 4s 16ms/step - loss: 0.6703 - val_loss: 0.6897\n",
            "Epoch 5/150\n",
            "235/235 [==============================] - 4s 16ms/step - loss: 0.6696 - val_loss: 0.6896\n",
            "Epoch 6/150\n",
            "235/235 [==============================] - 4s 16ms/step - loss: 0.6688 - val_loss: 0.6895\n",
            "Epoch 7/150\n",
            "235/235 [==============================] - 4s 16ms/step - loss: 0.6680 - val_loss: 0.6894\n",
            "Epoch 8/150\n",
            "235/235 [==============================] - 4s 16ms/step - loss: 0.6672 - val_loss: 0.6894\n",
            "Epoch 9/150\n",
            "235/235 [==============================] - 4s 17ms/step - loss: 0.6663 - val_loss: 0.6893\n",
            "Epoch 10/150\n",
            "235/235 [==============================] - 4s 16ms/step - loss: 0.6655 - val_loss: 0.6892\n",
            "Epoch 11/150\n",
            "235/235 [==============================] - 4s 16ms/step - loss: 0.6646 - val_loss: 0.6891\n",
            "Epoch 12/150\n",
            "235/235 [==============================] - 4s 16ms/step - loss: 0.6637 - val_loss: 0.6890\n",
            "Epoch 13/150\n",
            "235/235 [==============================] - 4s 16ms/step - loss: 0.6627 - val_loss: 0.6890\n",
            "Epoch 14/150\n",
            "235/235 [==============================] - 4s 16ms/step - loss: 0.6617 - val_loss: 0.6889\n",
            "Epoch 15/150\n",
            "235/235 [==============================] - 4s 16ms/step - loss: 0.6608 - val_loss: 0.6888\n",
            "Epoch 16/150\n",
            "235/235 [==============================] - 4s 16ms/step - loss: 0.6597 - val_loss: 0.6887\n",
            "Epoch 17/150\n",
            "235/235 [==============================] - 4s 16ms/step - loss: 0.6587 - val_loss: 0.6886\n",
            "Epoch 18/150\n",
            "235/235 [==============================] - 4s 16ms/step - loss: 0.6576 - val_loss: 0.6885\n",
            "Epoch 19/150\n",
            "235/235 [==============================] - 4s 17ms/step - loss: 0.6565 - val_loss: 0.6884\n",
            "Epoch 20/150\n",
            "235/235 [==============================] - 4s 16ms/step - loss: 0.6554 - val_loss: 0.6883\n",
            "Epoch 21/150\n",
            "235/235 [==============================] - 4s 16ms/step - loss: 0.6542 - val_loss: 0.6882\n",
            "Epoch 22/150\n",
            "235/235 [==============================] - 4s 16ms/step - loss: 0.6530 - val_loss: 0.6882\n",
            "Epoch 23/150\n",
            "235/235 [==============================] - 4s 16ms/step - loss: 0.6518 - val_loss: 0.6881\n",
            "Epoch 24/150\n",
            "235/235 [==============================] - 4s 16ms/step - loss: 0.6506 - val_loss: 0.6880\n",
            "Epoch 25/150\n",
            "235/235 [==============================] - 4s 16ms/step - loss: 0.6493 - val_loss: 0.6879\n",
            "Epoch 26/150\n",
            "235/235 [==============================] - 4s 16ms/step - loss: 0.6479 - val_loss: 0.6878\n",
            "Epoch 27/150\n",
            "235/235 [==============================] - 4s 16ms/step - loss: 0.6466 - val_loss: 0.6877\n",
            "Epoch 28/150\n",
            "235/235 [==============================] - 4s 16ms/step - loss: 0.6452 - val_loss: 0.6876\n",
            "Epoch 29/150\n",
            "235/235 [==============================] - 4s 16ms/step - loss: 0.6438 - val_loss: 0.6875\n",
            "Epoch 30/150\n",
            "235/235 [==============================] - 4s 16ms/step - loss: 0.6423 - val_loss: 0.6873\n",
            "Epoch 31/150\n",
            "235/235 [==============================] - 4s 16ms/step - loss: 0.6408 - val_loss: 0.6872\n",
            "Epoch 32/150\n",
            "235/235 [==============================] - 4s 17ms/step - loss: 0.6393 - val_loss: 0.6871\n",
            "Epoch 33/150\n",
            "235/235 [==============================] - 4s 17ms/step - loss: 0.6377 - val_loss: 0.6870\n",
            "Epoch 34/150\n",
            "235/235 [==============================] - 4s 16ms/step - loss: 0.6361 - val_loss: 0.6869\n",
            "Epoch 35/150\n",
            "235/235 [==============================] - 4s 17ms/step - loss: 0.6344 - val_loss: 0.6868\n",
            "Epoch 36/150\n",
            "235/235 [==============================] - 4s 16ms/step - loss: 0.6327 - val_loss: 0.6867\n",
            "Epoch 37/150\n",
            "235/235 [==============================] - 4s 16ms/step - loss: 0.6310 - val_loss: 0.6866\n",
            "Epoch 38/150\n",
            "235/235 [==============================] - 4s 17ms/step - loss: 0.6292 - val_loss: 0.6864\n",
            "Epoch 39/150\n",
            "235/235 [==============================] - 4s 16ms/step - loss: 0.6274 - val_loss: 0.6863\n",
            "Epoch 40/150\n",
            "235/235 [==============================] - 4s 17ms/step - loss: 0.6256 - val_loss: 0.6862\n",
            "Epoch 41/150\n",
            "235/235 [==============================] - 4s 16ms/step - loss: 0.6237 - val_loss: 0.6861\n",
            "Epoch 42/150\n",
            "235/235 [==============================] - 4s 16ms/step - loss: 0.6218 - val_loss: 0.6859\n",
            "Epoch 43/150\n",
            "235/235 [==============================] - 4s 16ms/step - loss: 0.6198 - val_loss: 0.6858\n",
            "Epoch 44/150\n",
            "235/235 [==============================] - 4s 17ms/step - loss: 0.6178 - val_loss: 0.6857\n",
            "Epoch 45/150\n",
            "235/235 [==============================] - 4s 17ms/step - loss: 0.6157 - val_loss: 0.6855\n",
            "Epoch 46/150\n",
            "235/235 [==============================] - 4s 17ms/step - loss: 0.6136 - val_loss: 0.6854\n",
            "Epoch 47/150\n",
            "235/235 [==============================] - 4s 16ms/step - loss: 0.6115 - val_loss: 0.6853\n",
            "Epoch 48/150\n",
            "235/235 [==============================] - 4s 17ms/step - loss: 0.6093 - val_loss: 0.6851\n",
            "Epoch 49/150\n",
            "235/235 [==============================] - 4s 17ms/step - loss: 0.6071 - val_loss: 0.6850\n",
            "Epoch 50/150\n",
            "235/235 [==============================] - 4s 17ms/step - loss: 0.6048 - val_loss: 0.6848\n",
            "Epoch 51/150\n",
            "235/235 [==============================] - 4s 17ms/step - loss: 0.6025 - val_loss: 0.6847\n",
            "Epoch 52/150\n",
            "235/235 [==============================] - 4s 17ms/step - loss: 0.6001 - val_loss: 0.6845\n",
            "Epoch 53/150\n",
            "235/235 [==============================] - 4s 17ms/step - loss: 0.5977 - val_loss: 0.6844\n",
            "Epoch 54/150\n",
            "235/235 [==============================] - 4s 16ms/step - loss: 0.5953 - val_loss: 0.6842\n",
            "Epoch 55/150\n",
            "235/235 [==============================] - 4s 17ms/step - loss: 0.5928 - val_loss: 0.6841\n",
            "Epoch 56/150\n",
            "235/235 [==============================] - 4s 17ms/step - loss: 0.5903 - val_loss: 0.6839\n",
            "Epoch 57/150\n",
            "235/235 [==============================] - 4s 17ms/step - loss: 0.5877 - val_loss: 0.6838\n",
            "Epoch 58/150\n",
            "235/235 [==============================] - 4s 17ms/step - loss: 0.5851 - val_loss: 0.6836\n",
            "Epoch 59/150\n",
            "235/235 [==============================] - 4s 17ms/step - loss: 0.5825 - val_loss: 0.6834\n",
            "Epoch 60/150\n",
            "235/235 [==============================] - 4s 17ms/step - loss: 0.5798 - val_loss: 0.6833\n",
            "Epoch 61/150\n",
            "235/235 [==============================] - 4s 16ms/step - loss: 0.5771 - val_loss: 0.6831\n",
            "Epoch 62/150\n",
            "235/235 [==============================] - 4s 17ms/step - loss: 0.5743 - val_loss: 0.6829\n",
            "Epoch 63/150\n",
            "235/235 [==============================] - 4s 17ms/step - loss: 0.5715 - val_loss: 0.6827\n",
            "Epoch 64/150\n",
            "235/235 [==============================] - 4s 17ms/step - loss: 0.5687 - val_loss: 0.6826\n",
            "Epoch 65/150\n",
            "235/235 [==============================] - 4s 17ms/step - loss: 0.5658 - val_loss: 0.6824\n",
            "Epoch 66/150\n",
            "235/235 [==============================] - 4s 17ms/step - loss: 0.5629 - val_loss: 0.6822\n",
            "Epoch 67/150\n",
            "235/235 [==============================] - 4s 17ms/step - loss: 0.5600 - val_loss: 0.6820\n",
            "Epoch 68/150\n",
            "235/235 [==============================] - 4s 17ms/step - loss: 0.5571 - val_loss: 0.6818\n",
            "Epoch 69/150\n",
            "235/235 [==============================] - 4s 17ms/step - loss: 0.5541 - val_loss: 0.6816\n",
            "Epoch 70/150\n",
            "235/235 [==============================] - 4s 17ms/step - loss: 0.5511 - val_loss: 0.6815\n",
            "Epoch 71/150\n",
            "235/235 [==============================] - 4s 17ms/step - loss: 0.5480 - val_loss: 0.6813\n",
            "Epoch 72/150\n",
            "235/235 [==============================] - 4s 17ms/step - loss: 0.5450 - val_loss: 0.6811\n",
            "Epoch 73/150\n",
            "235/235 [==============================] - 4s 17ms/step - loss: 0.5419 - val_loss: 0.6809\n",
            "Epoch 74/150\n",
            "235/235 [==============================] - 4s 17ms/step - loss: 0.5388 - val_loss: 0.6807\n",
            "Epoch 75/150\n",
            "235/235 [==============================] - 4s 17ms/step - loss: 0.5356 - val_loss: 0.6805\n",
            "Epoch 76/150\n",
            "235/235 [==============================] - 4s 17ms/step - loss: 0.5325 - val_loss: 0.6802\n",
            "Epoch 77/150\n",
            "235/235 [==============================] - 4s 16ms/step - loss: 0.5293 - val_loss: 0.6800\n",
            "Epoch 78/150\n",
            "235/235 [==============================] - 4s 17ms/step - loss: 0.5261 - val_loss: 0.6798\n",
            "Epoch 79/150\n",
            "235/235 [==============================] - 4s 17ms/step - loss: 0.5229 - val_loss: 0.6796\n",
            "Epoch 80/150\n",
            "235/235 [==============================] - 4s 17ms/step - loss: 0.5197 - val_loss: 0.6794\n",
            "Epoch 81/150\n",
            "235/235 [==============================] - 4s 17ms/step - loss: 0.5165 - val_loss: 0.6792\n",
            "Epoch 82/150\n",
            "235/235 [==============================] - 4s 17ms/step - loss: 0.5133 - val_loss: 0.6790\n",
            "Epoch 83/150\n",
            "235/235 [==============================] - 4s 16ms/step - loss: 0.5101 - val_loss: 0.6787\n",
            "Epoch 84/150\n",
            "235/235 [==============================] - 4s 16ms/step - loss: 0.5068 - val_loss: 0.6785\n",
            "Epoch 85/150\n",
            "235/235 [==============================] - 4s 16ms/step - loss: 0.5036 - val_loss: 0.6783\n",
            "Epoch 86/150\n",
            "235/235 [==============================] - 4s 17ms/step - loss: 0.5004 - val_loss: 0.6781\n",
            "Epoch 87/150\n",
            "235/235 [==============================] - 4s 16ms/step - loss: 0.4971 - val_loss: 0.6778\n",
            "Epoch 88/150\n",
            "235/235 [==============================] - 4s 17ms/step - loss: 0.4939 - val_loss: 0.6776\n",
            "Epoch 89/150\n",
            "235/235 [==============================] - 4s 17ms/step - loss: 0.4907 - val_loss: 0.6774\n",
            "Epoch 90/150\n",
            "235/235 [==============================] - 4s 17ms/step - loss: 0.4874 - val_loss: 0.6772\n",
            "Epoch 91/150\n",
            "235/235 [==============================] - 4s 17ms/step - loss: 0.4842 - val_loss: 0.6769\n",
            "Epoch 92/150\n",
            "235/235 [==============================] - 4s 17ms/step - loss: 0.4810 - val_loss: 0.6767\n",
            "Epoch 93/150\n",
            "235/235 [==============================] - 4s 17ms/step - loss: 0.4778 - val_loss: 0.6764\n",
            "Epoch 94/150\n",
            "235/235 [==============================] - 4s 17ms/step - loss: 0.4747 - val_loss: 0.6762\n",
            "Epoch 95/150\n",
            "235/235 [==============================] - 4s 18ms/step - loss: 0.4715 - val_loss: 0.6760\n",
            "Epoch 96/150\n",
            "235/235 [==============================] - 4s 17ms/step - loss: 0.4684 - val_loss: 0.6757\n",
            "Epoch 97/150\n",
            "235/235 [==============================] - 4s 17ms/step - loss: 0.4653 - val_loss: 0.6755\n",
            "Epoch 98/150\n",
            "235/235 [==============================] - 4s 17ms/step - loss: 0.4622 - val_loss: 0.6752\n",
            "Epoch 99/150\n",
            "235/235 [==============================] - 4s 17ms/step - loss: 0.4591 - val_loss: 0.6750\n",
            "Epoch 100/150\n",
            "235/235 [==============================] - 4s 17ms/step - loss: 0.4560 - val_loss: 0.6748\n",
            "Epoch 101/150\n",
            "235/235 [==============================] - 4s 17ms/step - loss: 0.4530 - val_loss: 0.6745\n",
            "Epoch 102/150\n",
            "235/235 [==============================] - 4s 17ms/step - loss: 0.4500 - val_loss: 0.6743\n",
            "Epoch 103/150\n",
            "235/235 [==============================] - 4s 17ms/step - loss: 0.4470 - val_loss: 0.6740\n",
            "Epoch 104/150\n",
            "235/235 [==============================] - 4s 17ms/step - loss: 0.4441 - val_loss: 0.6738\n",
            "Epoch 105/150\n",
            "235/235 [==============================] - 4s 16ms/step - loss: 0.4412 - val_loss: 0.6735\n",
            "Epoch 106/150\n",
            "235/235 [==============================] - 4s 17ms/step - loss: 0.4383 - val_loss: 0.6733\n",
            "Epoch 107/150\n",
            "235/235 [==============================] - 4s 17ms/step - loss: 0.4355 - val_loss: 0.6730\n",
            "Epoch 108/150\n",
            "235/235 [==============================] - 4s 17ms/step - loss: 0.4326 - val_loss: 0.6728\n",
            "Epoch 109/150\n",
            "235/235 [==============================] - 4s 17ms/step - loss: 0.4299 - val_loss: 0.6726\n",
            "Epoch 110/150\n",
            "235/235 [==============================] - 4s 17ms/step - loss: 0.4271 - val_loss: 0.6723\n",
            "Epoch 111/150\n",
            "235/235 [==============================] - 4s 16ms/step - loss: 0.4244 - val_loss: 0.6721\n",
            "Epoch 112/150\n",
            "235/235 [==============================] - 4s 17ms/step - loss: 0.4217 - val_loss: 0.6718\n",
            "Epoch 113/150\n",
            "235/235 [==============================] - 4s 17ms/step - loss: 0.4191 - val_loss: 0.6716\n",
            "Epoch 114/150\n",
            "235/235 [==============================] - 4s 17ms/step - loss: 0.4165 - val_loss: 0.6713\n",
            "Epoch 115/150\n",
            "235/235 [==============================] - 4s 17ms/step - loss: 0.4139 - val_loss: 0.6711\n",
            "Epoch 116/150\n",
            "235/235 [==============================] - 4s 17ms/step - loss: 0.4114 - val_loss: 0.6708\n",
            "Epoch 117/150\n",
            "235/235 [==============================] - 4s 17ms/step - loss: 0.4089 - val_loss: 0.6706\n",
            "Epoch 118/150\n",
            "235/235 [==============================] - 4s 17ms/step - loss: 0.4065 - val_loss: 0.6704\n",
            "Epoch 119/150\n",
            "235/235 [==============================] - 4s 17ms/step - loss: 0.4041 - val_loss: 0.6701\n",
            "Epoch 120/150\n",
            "235/235 [==============================] - 4s 17ms/step - loss: 0.4017 - val_loss: 0.6699\n",
            "Epoch 121/150\n",
            "235/235 [==============================] - 4s 17ms/step - loss: 0.3994 - val_loss: 0.6696\n",
            "Epoch 122/150\n",
            "235/235 [==============================] - 4s 17ms/step - loss: 0.3971 - val_loss: 0.6694\n",
            "Epoch 123/150\n",
            "235/235 [==============================] - 4s 17ms/step - loss: 0.3949 - val_loss: 0.6691\n",
            "Epoch 124/150\n",
            "235/235 [==============================] - 4s 17ms/step - loss: 0.3927 - val_loss: 0.6689\n",
            "Epoch 125/150\n",
            "235/235 [==============================] - 4s 17ms/step - loss: 0.3905 - val_loss: 0.6687\n",
            "Epoch 126/150\n",
            "235/235 [==============================] - 4s 17ms/step - loss: 0.3884 - val_loss: 0.6684\n",
            "Epoch 127/150\n",
            "235/235 [==============================] - 4s 17ms/step - loss: 0.3863 - val_loss: 0.6682\n",
            "Epoch 128/150\n",
            "235/235 [==============================] - 4s 17ms/step - loss: 0.3843 - val_loss: 0.6680\n",
            "Epoch 129/150\n",
            "235/235 [==============================] - 4s 17ms/step - loss: 0.3822 - val_loss: 0.6677\n",
            "Epoch 130/150\n",
            "235/235 [==============================] - 4s 17ms/step - loss: 0.3803 - val_loss: 0.6675\n",
            "Epoch 131/150\n",
            "235/235 [==============================] - 4s 17ms/step - loss: 0.3783 - val_loss: 0.6673\n",
            "Epoch 132/150\n",
            "235/235 [==============================] - 4s 17ms/step - loss: 0.3764 - val_loss: 0.6670\n",
            "Epoch 133/150\n",
            "235/235 [==============================] - 4s 17ms/step - loss: 0.3746 - val_loss: 0.6668\n",
            "Epoch 134/150\n",
            "235/235 [==============================] - 4s 17ms/step - loss: 0.3728 - val_loss: 0.6666\n",
            "Epoch 135/150\n",
            "235/235 [==============================] - 4s 18ms/step - loss: 0.3710 - val_loss: 0.6664\n",
            "Epoch 136/150\n",
            "235/235 [==============================] - 4s 18ms/step - loss: 0.3692 - val_loss: 0.6661\n",
            "Epoch 137/150\n",
            "235/235 [==============================] - 4s 17ms/step - loss: 0.3675 - val_loss: 0.6659\n",
            "Epoch 138/150\n",
            "235/235 [==============================] - 4s 17ms/step - loss: 0.3659 - val_loss: 0.6657\n",
            "Epoch 139/150\n",
            "235/235 [==============================] - 4s 17ms/step - loss: 0.3642 - val_loss: 0.6655\n",
            "Epoch 140/150\n",
            "235/235 [==============================] - 4s 18ms/step - loss: 0.3626 - val_loss: 0.6652\n",
            "Epoch 141/150\n",
            "235/235 [==============================] - 4s 17ms/step - loss: 0.3610 - val_loss: 0.6650\n",
            "Epoch 142/150\n",
            "235/235 [==============================] - 4s 17ms/step - loss: 0.3595 - val_loss: 0.6648\n",
            "Epoch 143/150\n",
            "235/235 [==============================] - 4s 17ms/step - loss: 0.3580 - val_loss: 0.6646\n",
            "Epoch 144/150\n",
            "235/235 [==============================] - 4s 17ms/step - loss: 0.3565 - val_loss: 0.6644\n",
            "Epoch 145/150\n",
            "235/235 [==============================] - 4s 17ms/step - loss: 0.3551 - val_loss: 0.6642\n",
            "Epoch 146/150\n",
            "235/235 [==============================] - 4s 17ms/step - loss: 0.3537 - val_loss: 0.6640\n",
            "Epoch 147/150\n",
            "235/235 [==============================] - 4s 17ms/step - loss: 0.3523 - val_loss: 0.6638\n",
            "Epoch 148/150\n",
            "235/235 [==============================] - 4s 17ms/step - loss: 0.3509 - val_loss: 0.6636\n",
            "Epoch 149/150\n",
            "235/235 [==============================] - 4s 16ms/step - loss: 0.3496 - val_loss: 0.6633\n",
            "Epoch 150/150\n",
            "235/235 [==============================] - 4s 16ms/step - loss: 0.3483 - val_loss: 0.6631\n"
          ],
          "name": "stdout"
        },
        {
          "output_type": "execute_result",
          "data": {
            "text/plain": [
              "<tensorflow.python.keras.callbacks.History at 0x7fd760dd9d50>"
            ]
          },
          "metadata": {
            "tags": []
          },
          "execution_count": 27
        }
      ]
    },
    {
      "cell_type": "code",
      "metadata": {
        "id": "1vOsgiepO1RZ"
      },
      "source": [
        "encoded_imgs = encoder.predict(x_test)\n",
        "decoded_imgs = decoder.predict(encoded_imgs)"
      ],
      "execution_count": 28,
      "outputs": []
    },
    {
      "cell_type": "code",
      "metadata": {
        "colab": {
          "base_uri": "https://localhost:8080/",
          "height": 52
        },
        "id": "RN2OZ6KWPXLL",
        "outputId": "0d700d6c-2532-4b4d-b180-9c12010d10a8"
      },
      "source": [
        "n =10\n",
        "plt.figure(figsize=(20,4))\n"
      ],
      "execution_count": 29,
      "outputs": [
        {
          "output_type": "execute_result",
          "data": {
            "text/plain": [
              "<Figure size 1440x288 with 0 Axes>"
            ]
          },
          "metadata": {
            "tags": []
          },
          "execution_count": 29
        },
        {
          "output_type": "display_data",
          "data": {
            "text/plain": [
              "<Figure size 1440x288 with 0 Axes>"
            ]
          },
          "metadata": {
            "tags": []
          }
        }
      ]
    },
    {
      "cell_type": "code",
      "metadata": {
        "colab": {
          "base_uri": "https://localhost:8080/",
          "height": 181
        },
        "id": "x2znDqvFP2o0",
        "outputId": "8ce65f68-a6ac-4070-f481-cc7892bb175f"
      },
      "source": [
        "for i in range(n):\n",
        "  ax = plt.subplot(2,n,i+1)\n",
        "  plt.imshow(x_test[i].reshape(28,28))\n",
        "  plt.gray()\n",
        "  ax.get_xaxis().set_visible(False)\n",
        "  ax.get_yaxis().set_visible(False)\n",
        "  ax = plt.subplot(2,n,i+1+n)\n",
        "  plt.imshow(decoded_imgs[i].reshape(28,28))\n",
        "  plt.gray()\n",
        "  ax.get_xaxis().set_visible(False)\n",
        "  ax.get_yaxis().set_visible(False)\n",
        "\n",
        "plt.show()"
      ],
      "execution_count": 31,
      "outputs": [
        {
          "output_type": "display_data",
          "data": {
            "image/png": "[encoded data removed]",
            "text/plain": [
              "<Figure size 432x288 with 20 Axes>"
            ]
          },
          "metadata": {
            "tags": [],
            "needs_background": "light"
          }
        }
      ]
    },
    {
      "cell_type": "code",
      "metadata": {
        "id": "7OlT0VJ0S9XC"
      },
      "source": [
        ""
      ],
      "execution_count": null,
      "outputs": []
    }
  ]
}