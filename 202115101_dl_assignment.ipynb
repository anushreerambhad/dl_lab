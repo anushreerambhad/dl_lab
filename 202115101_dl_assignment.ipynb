{
  "nbformat": 4,
  "nbformat_minor": 0,
  "metadata": {
    "colab": {
      "name": "202115101_dl_assignment.ipynb",
      "provenance": []
    },
    "kernelspec": {
      "name": "python3",
      "display_name": "Python 3"
    },
    "language_info": {
      "name": "python"
    }
  },
  "cells": [
    {
      "cell_type": "code",
      "metadata": {
        "id": "4G3KPLqcvlaX"
      },
      "source": [
        "import numpy as np\n",
        "import pandas as pd\n",
        "import tensorflow as tf\n",
        "from tensorflow.keras import layers\n",
        "from sklearn.preprocessing import MinMaxScaler\n",
        "import matplotlib.pyplot as plt"
      ],
      "execution_count": 1,
      "outputs": []
    },
    {
      "cell_type": "code",
      "metadata": {
        "id": "bSpjaOsHvpVk"
      },
      "source": [
        "arr = [[2,3,1,1],\n",
        "       [1,2,2,1],\n",
        "       [2,2,2,1],\n",
        "       [3,2,2,1],\n",
        "       [5,3,1,0],\n",
        "       [6,2,2,0],\n",
        "       [7,3,1,0],\n",
        "       [8,2,2,0]]"
      ],
      "execution_count": 14,
      "outputs": []
    },
    {
      "cell_type": "code",
      "metadata": {
        "id": "W80lWu9LvwO1"
      },
      "source": [
        "data = np.array(sample_data)\n",
        "\n",
        "X = data[:,:-1]\n",
        "Y = data[:,-1]"
      ],
      "execution_count": 16,
      "outputs": []
    },
    {
      "cell_type": "code",
      "metadata": {
        "colab": {
          "base_uri": "https://localhost:8080/"
        },
        "id": "w2YSxDR-wpXa",
        "outputId": "a61edba9-8d6b-49f2-a82b-7b006d6e3a05"
      },
      "source": [
        "scaler = MinMaxScaler()\n",
        "X_train = scaler.fit_transform(X)\n",
        "print(X_train)"
      ],
      "execution_count": 18,
      "outputs": [
        {
          "output_type": "stream",
          "text": [
            "[[0.14285714 1.         0.        ]\n",
            " [0.         0.         1.        ]\n",
            " [0.14285714 0.         1.        ]\n",
            " [0.28571429 0.         1.        ]\n",
            " [0.57142857 1.         0.        ]\n",
            " [0.71428571 0.         1.        ]\n",
            " [0.85714286 1.         0.        ]\n",
            " [1.         0.         1.        ]]\n"
          ],
          "name": "stdout"
        }
      ]
    },
    {
      "cell_type": "code",
      "metadata": {
        "colab": {
          "base_uri": "https://localhost:8080/"
        },
        "id": "JLYO5sZvwxLF",
        "outputId": "371e8a37-6371-47a9-c720-bb77db7d5702"
      },
      "source": [
        "import tensorflow as tf\n",
        "from tensorflow import keras\n",
        "from tensorflow.keras import layers\n",
        "from keras.models import Sequential\n",
        "from keras.layers import Dense, Activation\n",
        "\n",
        "model = Sequential()\n",
        "input_layer = layers.Input(shape=(3))\n",
        "x = layers.Dense(32, activation='relu')(input_layer)\n",
        "output_layer = layers.Dense(2, activation='sigmoid')(x)\n",
        "\n",
        "model = keras.Model(input_layer, output_layer)\n",
        "model.summary()"
      ],
      "execution_count": 21,
      "outputs": [
        {
          "output_type": "stream",
          "text": [
            "Model: \"model\"\n",
            "_________________________________________________________________\n",
            "Layer (type)                 Output Shape              Param #   \n",
            "=================================================================\n",
            "input_2 (InputLayer)         [(None, 3)]               0         \n",
            "_________________________________________________________________\n",
            "dense_2 (Dense)              (None, 32)                128       \n",
            "_________________________________________________________________\n",
            "dense_3 (Dense)              (None, 2)                 66        \n",
            "=================================================================\n",
            "Total params: 194\n",
            "Trainable params: 194\n",
            "Non-trainable params: 0\n",
            "_________________________________________________________________\n"
          ],
          "name": "stdout"
        }
      ]
    },
    {
      "cell_type": "code",
      "metadata": {
        "id": "KbNu6FSJw56M"
      },
      "source": [
        "model.compile(optimizer=\"adam\", loss=\"sparse_categorical_crossentropy\", metrics=[\"sparse_categorical_accuracy\"],)"
      ],
      "execution_count": 22,
      "outputs": []
    },
    {
      "cell_type": "code",
      "metadata": {
        "colab": {
          "base_uri": "https://localhost:8080/"
        },
        "id": "vgx80dv3ydZn",
        "outputId": "6c2062d7-2027-4e14-b5ff-bc9b0e28dde7"
      },
      "source": [
        "model_history = model.fit(X_train,Y, epochs= 20)"
      ],
      "execution_count": 23,
      "outputs": [
        {
          "output_type": "stream",
          "text": [
            "Epoch 1/20\n",
            "1/1 [==============================] - 0s 480ms/step - loss: 0.6942 - sparse_categorical_accuracy: 0.5000\n",
            "Epoch 2/20\n",
            "1/1 [==============================] - 0s 4ms/step - loss: 0.6912 - sparse_categorical_accuracy: 0.5000\n",
            "Epoch 3/20\n",
            "1/1 [==============================] - 0s 7ms/step - loss: 0.6881 - sparse_categorical_accuracy: 0.6250\n",
            "Epoch 4/20\n",
            "1/1 [==============================] - 0s 5ms/step - loss: 0.6851 - sparse_categorical_accuracy: 0.6250\n",
            "Epoch 5/20\n",
            "1/1 [==============================] - 0s 4ms/step - loss: 0.6822 - sparse_categorical_accuracy: 0.6250\n",
            "Epoch 6/20\n",
            "1/1 [==============================] - 0s 7ms/step - loss: 0.6793 - sparse_categorical_accuracy: 0.6250\n",
            "Epoch 7/20\n",
            "1/1 [==============================] - 0s 3ms/step - loss: 0.6764 - sparse_categorical_accuracy: 0.6250\n",
            "Epoch 8/20\n",
            "1/1 [==============================] - 0s 4ms/step - loss: 0.6735 - sparse_categorical_accuracy: 0.6250\n",
            "Epoch 9/20\n",
            "1/1 [==============================] - 0s 3ms/step - loss: 0.6708 - sparse_categorical_accuracy: 0.6250\n",
            "Epoch 10/20\n",
            "1/1 [==============================] - 0s 4ms/step - loss: 0.6680 - sparse_categorical_accuracy: 0.6250\n",
            "Epoch 11/20\n",
            "1/1 [==============================] - 0s 3ms/step - loss: 0.6653 - sparse_categorical_accuracy: 0.6250\n",
            "Epoch 12/20\n",
            "1/1 [==============================] - 0s 5ms/step - loss: 0.6626 - sparse_categorical_accuracy: 0.6250\n",
            "Epoch 13/20\n",
            "1/1 [==============================] - 0s 3ms/step - loss: 0.6600 - sparse_categorical_accuracy: 0.6250\n",
            "Epoch 14/20\n",
            "1/1 [==============================] - 0s 3ms/step - loss: 0.6574 - sparse_categorical_accuracy: 0.6250\n",
            "Epoch 15/20\n",
            "1/1 [==============================] - 0s 3ms/step - loss: 0.6548 - sparse_categorical_accuracy: 0.6250\n",
            "Epoch 16/20\n",
            "1/1 [==============================] - 0s 3ms/step - loss: 0.6523 - sparse_categorical_accuracy: 0.6250\n",
            "Epoch 17/20\n",
            "1/1 [==============================] - 0s 4ms/step - loss: 0.6497 - sparse_categorical_accuracy: 0.6250\n",
            "Epoch 18/20\n",
            "1/1 [==============================] - 0s 4ms/step - loss: 0.6472 - sparse_categorical_accuracy: 0.6250\n",
            "Epoch 19/20\n",
            "1/1 [==============================] - 0s 3ms/step - loss: 0.6446 - sparse_categorical_accuracy: 0.6250\n",
            "Epoch 20/20\n",
            "1/1 [==============================] - 0s 3ms/step - loss: 0.6421 - sparse_categorical_accuracy: 0.6250\n"
          ],
          "name": "stdout"
        }
      ]
    },
    {
      "cell_type": "code",
      "metadata": {
        "colab": {
          "base_uri": "https://localhost:8080/"
        },
        "id": "KZ8bZao8yg3m",
        "outputId": "1c7453be-17f1-4727-8602-476938de29b8"
      },
      "source": [
        "Y_predict = np.argmax(model.predict(X), axis=1)\n",
        "Y_predict"
      ],
      "execution_count": 24,
      "outputs": [
        {
          "output_type": "execute_result",
          "data": {
            "text/plain": [
              "array([0, 0, 0, 0, 0, 0, 0, 0])"
            ]
          },
          "metadata": {
            "tags": []
          },
          "execution_count": 24
        }
      ]
    },
    {
      "cell_type": "code",
      "metadata": {
        "colab": {
          "base_uri": "https://localhost:8080/",
          "height": 265
        },
        "id": "uTrpU4QLylSE",
        "outputId": "23e59971-32e2-4939-ce53-7e9a8ec96e43"
      },
      "source": [
        "plt.scatter(X[:,0],Y, color = 'green')\n",
        "plt.scatter(X[:,1],Y, color = 'green')\n",
        "plt.scatter(X[:,2],Y, color = 'green')\n",
        "\n",
        "\n",
        "plt.scatter(X[:,0],Y_predict, s = 100, marker = 'o',facecolors='none', edgecolors='g')\n",
        "plt.scatter(X[:,1],Y_predict, s = 100, marker = 'o',facecolors='none', edgecolors='g')\n",
        "plt.scatter(X[:,2],Y_predict, s = 100, marker = 'o',facecolors='none', edgecolors='g')\n",
        "\n",
        "plt.show()"
      ],
      "execution_count": 26,
      "outputs": [
        {
          "output_type": "display_data",
          "data": {
            "image/png": "[encoded data removed]",
            "text/plain": [
              "<Figure size 432x288 with 1 Axes>"
            ]
          },
          "metadata": {
            "tags": [],
            "needs_background": "light"
          }
        }
      ]
    }
  ]
}