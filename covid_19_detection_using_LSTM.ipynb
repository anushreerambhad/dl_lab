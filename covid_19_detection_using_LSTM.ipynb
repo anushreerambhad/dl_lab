{
  "nbformat": 4,
  "nbformat_minor": 0,
  "metadata": {
    "accelerator": "GPU",
    "colab": {
      "name": "covid-19 detection using LSTM.ipynb",
      "provenance": []
    },
    "kernelspec": {
      "display_name": "Python 3",
      "name": "python3"
    },
    "language_info": {
      "name": "python"
    }
  },
  "cells": [
    {
      "cell_type": "code",
      "metadata": {
        "id": "xHTUcsI6S2Sf"
      },
      "source": [
        "import keras\n",
        "from keras.datasets import mnist\n",
        "from keras.models import Model\n",
        "from keras.layers import Input,Dense,TimeDistributed\n",
        "from keras.layers import LSTM"
      ],
      "execution_count": 11,
      "outputs": []
    },
    {
      "cell_type": "code",
      "metadata": {
        "id": "lq-wOI84TBQv"
      },
      "source": [
        "batch_size = 32\n",
        "num_classes = 2\n",
        "epochs =5"
      ],
      "execution_count": 12,
      "outputs": []
    },
    {
      "cell_type": "code",
      "metadata": {
        "id": "c1dwW2c7VcbE"
      },
      "source": [
        "import glob"
      ],
      "execution_count": 13,
      "outputs": []
    },
    {
      "cell_type": "code",
      "metadata": {
        "colab": {
          "base_uri": "https://localhost:8080/"
        },
        "id": "QwpsKRuAVsPN",
        "outputId": "94ffa49a-18bb-4708-ca3b-8fd463f5d251"
      },
      "source": [
        "from google.colab import drive\n",
        "drive.mount('/content/drive')"
      ],
      "execution_count": 14,
      "outputs": [
        {
          "output_type": "stream",
          "text": [
            "Drive already mounted at /content/drive; to attempt to forcibly remount, call drive.mount(\"/content/drive\", force_remount=True).\n"
          ],
          "name": "stdout"
        }
      ]
    },
    {
      "cell_type": "code",
      "metadata": {
        "id": "2aw8cw9eXQbT"
      },
      "source": [
        "!pip install -q keras\n",
        "import keras\n",
        "\n",
        "from keras.layers import Input,Lambda,Dense, Flatten\n",
        "from keras.models import Model\n",
        "from keras.applications.vgg19 import VGG19\n",
        "from keras.applications.vgg16 import preprocess_input\n",
        "from keras.preprocessing import image\n",
        "from keras.preprocessing.image import ImageDataGenerator\n",
        "from keras.models import Sequential\n",
        "import numpy as np\n",
        "from glob import glob\n",
        "import matplotlib.pyplot as plt\n",
        "from tensorflow.keras.optimizers import Adam\n",
        "from tensorflow.keras.utils import to_categorical\n",
        "from sklearn.preprocessing import LabelBinarizer\n",
        "from sklearn.model_selection import train_test_split\n",
        "from sklearn.metrics import classification_report\n",
        "from sklearn.metrics import confusion_matrix\n",
        "from imutils import paths\n",
        "import matplotlib.pyplot as plt\n",
        "import numpy as np\n",
        "import argparse\n",
        "import cv2\n",
        "import os"
      ],
      "execution_count": 15,
      "outputs": []
    },
    {
      "cell_type": "code",
      "metadata": {
        "id": "z0owmWZBXR3Q"
      },
      "source": [
        "import glob\n",
        "covid_path = glob.glob('/content/drive/MyDrive/COVID/*.png')\n",
        "data = []\n",
        "labels = []\n",
        "i = 0\n",
        "for file in covid_path:\n",
        "  i = i+1\n",
        "  if i > 500:\n",
        "    break\n",
        "  img = cv2.imread(file)\n",
        "  img = cv2.cvtColor(img, cv2.COLOR_BGR2RGB)\n",
        "  img = cv2.resize(img, (224, 224))\n",
        "  data.append(img)\n",
        "  labels.append('covid')\n",
        "  cv2.waitKey(0)\n",
        "  cv2.destroyAllWindows()"
      ],
      "execution_count": 54,
      "outputs": []
    },
    {
      "cell_type": "code",
      "metadata": {
        "id": "P4qqDo_9xW0p"
      },
      "source": [
        "import glob\n",
        "normal_path = glob.glob('/content/drive/MyDrive/NORMAL/*.png')\n",
        "i=0\n",
        "for file in normal_path:\n",
        "  i= i + 1\n",
        "  if i > 500:\n",
        "    break\n",
        "  img = cv2.imread(file)\n",
        "  img = cv2.cvtColor(img, cv2.COLOR_BGR2RGB)\n",
        "  img = cv2.resize(img, (224, 224))\n",
        "  data.append(img)\n",
        "  labels.append('normal')\n",
        "  cv2.waitKey(0)\n",
        "  cv2.destroyAllWindows()"
      ],
      "execution_count": 55,
      "outputs": []
    },
    {
      "cell_type": "code",
      "metadata": {
        "id": "JDRpx-3h3TUa"
      },
      "source": [
        "# perform one-hot encoding on the labels\n",
        "lb = LabelBinarizer()\n",
        "labels = lb.fit_transform(labels)\n",
        "labels = to_categorical(labels)"
      ],
      "execution_count": 56,
      "outputs": []
    },
    {
      "cell_type": "code",
      "metadata": {
        "colab": {
          "base_uri": "https://localhost:8080/"
        },
        "id": "7G-sunmrpwEH",
        "outputId": "51848784-2082-49a4-b73c-6febd6148009"
      },
      "source": [
        "labels"
      ],
      "execution_count": 57,
      "outputs": [
        {
          "output_type": "execute_result",
          "data": {
            "text/plain": [
              "array([[1., 0.],\n",
              "       [1., 0.],\n",
              "       [1., 0.],\n",
              "       ...,\n",
              "       [0., 1.],\n",
              "       [0., 1.],\n",
              "       [0., 1.]], dtype=float32)"
            ]
          },
          "metadata": {
            "tags": []
          },
          "execution_count": 57
        }
      ]
    },
    {
      "cell_type": "code",
      "metadata": {
        "id": "M65P4bBJpYCS"
      },
      "source": [
        "#embedding dimensions :\n",
        "row_hidden = 128\n",
        "col_hidden = 128"
      ],
      "execution_count": 58,
      "outputs": []
    },
    {
      "cell_type": "code",
      "metadata": {
        "id": "r01BrFo3xsSz"
      },
      "source": [
        "# partition the data into training and testing splits using 80% of\n",
        "# the data for training and the remaining 20% for testing\n",
        "(x_train, x_test, y_train, y_test) = train_test_split(data, labels,test_size=0.20, stratify=labels, random_state=42)"
      ],
      "execution_count": 59,
      "outputs": []
    },
    {
      "cell_type": "code",
      "metadata": {
        "colab": {
          "base_uri": "https://localhost:8080/"
        },
        "id": "6_KMBkJpxzj_",
        "outputId": "ecaff716-38f4-4dc5-abd7-2547df516250"
      },
      "source": [
        "x_train = np.array(x_train)\n",
        "x_train = x_train.reshape(x_train.shape[0],224,224,3)\n",
        "x_train.shape"
      ],
      "execution_count": 60,
      "outputs": [
        {
          "output_type": "execute_result",
          "data": {
            "text/plain": [
              "(800, 224, 224, 3)"
            ]
          },
          "metadata": {
            "tags": []
          },
          "execution_count": 60
        }
      ]
    },
    {
      "cell_type": "code",
      "metadata": {
        "colab": {
          "base_uri": "https://localhost:8080/"
        },
        "id": "o3RQvE1eydQB",
        "outputId": "e7cecc18-81ec-4fa3-e1db-e53f56d1f06f"
      },
      "source": [
        "x_test = np.array(x_test)\n",
        "x_test = x_test.reshape(x_test.shape[0],224,224,3)\n",
        "x_test.shape"
      ],
      "execution_count": 61,
      "outputs": [
        {
          "output_type": "execute_result",
          "data": {
            "text/plain": [
              "(200, 224, 224, 3)"
            ]
          },
          "metadata": {
            "tags": []
          },
          "execution_count": 61
        }
      ]
    },
    {
      "cell_type": "code",
      "metadata": {
        "id": "1pAefJomzjm-"
      },
      "source": [
        "x_train = x_train.astype('float32')\n",
        "x_test = x_test.astype('float32')"
      ],
      "execution_count": 62,
      "outputs": []
    },
    {
      "cell_type": "code",
      "metadata": {
        "id": "iIiOK9tOzosX"
      },
      "source": [
        "x_train = x_train/255\n",
        "x_test = x_test/255"
      ],
      "execution_count": 63,
      "outputs": []
    },
    {
      "cell_type": "code",
      "metadata": {
        "id": "KolJPeeXz1Fh"
      },
      "source": [
        ""
      ],
      "execution_count": 32,
      "outputs": []
    },
    {
      "cell_type": "code",
      "metadata": {
        "id": "T6eqkFlV163U"
      },
      "source": [
        ""
      ],
      "execution_count": null,
      "outputs": []
    },
    {
      "cell_type": "code",
      "metadata": {
        "colab": {
          "base_uri": "https://localhost:8080/"
        },
        "id": "AUAjEWKf0Y2R",
        "outputId": "726b31cc-c65f-4922-de6e-6d5670bb0018"
      },
      "source": [
        "labels"
      ],
      "execution_count": 64,
      "outputs": [
        {
          "output_type": "execute_result",
          "data": {
            "text/plain": [
              "array([[1., 0.],\n",
              "       [1., 0.],\n",
              "       [1., 0.],\n",
              "       ...,\n",
              "       [0., 1.],\n",
              "       [0., 1.],\n",
              "       [0., 1.]], dtype=float32)"
            ]
          },
          "metadata": {
            "tags": []
          },
          "execution_count": 64
        }
      ]
    },
    {
      "cell_type": "code",
      "metadata": {
        "colab": {
          "base_uri": "https://localhost:8080/"
        },
        "id": "iiaGffWs0bBC",
        "outputId": "e5cce3d1-daa3-4ed4-f84c-8d698f7970a8"
      },
      "source": [
        "labels.shape"
      ],
      "execution_count": 65,
      "outputs": [
        {
          "output_type": "execute_result",
          "data": {
            "text/plain": [
              "(1000, 2)"
            ]
          },
          "metadata": {
            "tags": []
          },
          "execution_count": 65
        }
      ]
    },
    {
      "cell_type": "code",
      "metadata": {
        "id": "ReJu0NGfz7Yq"
      },
      "source": [
        "# initialize the training data augmentation object\n",
        "trainAug = ImageDataGenerator(\n",
        "\trotation_range=15,\n",
        "\tfill_mode=\"nearest\")"
      ],
      "execution_count": 66,
      "outputs": []
    },
    {
      "cell_type": "code",
      "metadata": {
        "id": "iVPZVqhs0wbi"
      },
      "source": [
        "row , col,pixel = x_train.shape[1:]"
      ],
      "execution_count": 67,
      "outputs": []
    },
    {
      "cell_type": "code",
      "metadata": {
        "id": "JK_NAUTk00Q5"
      },
      "source": [
        "X= Input(shape=(row,col,pixel))"
      ],
      "execution_count": 68,
      "outputs": []
    },
    {
      "cell_type": "code",
      "metadata": {
        "colab": {
          "base_uri": "https://localhost:8080/"
        },
        "id": "cdgSL93y01n8",
        "outputId": "deb08f07-606b-435b-ff4e-2ae63ae4459b"
      },
      "source": [
        "X"
      ],
      "execution_count": 69,
      "outputs": [
        {
          "output_type": "execute_result",
          "data": {
            "text/plain": [
              "<KerasTensor: shape=(None, 224, 224, 3) dtype=float32 (created by layer 'input_2')>"
            ]
          },
          "metadata": {
            "tags": []
          },
          "execution_count": 69
        }
      ]
    },
    {
      "cell_type": "code",
      "metadata": {
        "id": "tQwpKdPm08xD"
      },
      "source": [
        "#encode a row of pixels using Timedisrtibuted wrapper\n",
        "#TimeDistributed this wrapper applies a layer to every temporal slice of an input\n",
        "#considered to be the temporal dimesions.Batch size = 32 \n",
        "import tensorflow as tf\n",
        "encoded_rows = TimeDistributed(LSTM(row_hidden))(X)\n",
        "encoded_columns = LSTM(col_hidden)(encoded_rows) "
      ],
      "execution_count": 70,
      "outputs": []
    },
    {
      "cell_type": "code",
      "metadata": {
        "id": "HUzvm1Qe0_tJ"
      },
      "source": [
        "#Final predictions and model.\n",
        "prediction = Dense(num_classes,activation='softmax')(encoded_columns)\n",
        "model = Model(X,prediction)\n",
        "model.compile(loss='categorical_crossentropy',optimizer='rmsprop',metrics=['accuracy']) "
      ],
      "execution_count": 71,
      "outputs": []
    },
    {
      "cell_type": "code",
      "metadata": {
        "colab": {
          "base_uri": "https://localhost:8080/"
        },
        "id": "QCVWbDf31HVU",
        "outputId": "9a875e5c-8f01-479f-9b39-9945d658a25f"
      },
      "source": [
        "model.fit(x_train,y_train,batch_size=batch_size,epochs= 10 ,verbose =1 ,validation_data=(x_test,y_test))"
      ],
      "execution_count": 74,
      "outputs": [
        {
          "output_type": "stream",
          "text": [
            "Epoch 1/10\n",
            "25/25 [==============================] - 27s 1s/step - loss: 0.2928 - accuracy: 0.8850 - val_loss: 0.2487 - val_accuracy: 0.9200\n",
            "Epoch 2/10\n",
            "25/25 [==============================] - 27s 1s/step - loss: 0.4681 - accuracy: 0.8000 - val_loss: 0.3952 - val_accuracy: 0.8450\n",
            "Epoch 3/10\n",
            "25/25 [==============================] - 26s 1s/step - loss: 0.4132 - accuracy: 0.8125 - val_loss: 0.3569 - val_accuracy: 0.8400\n",
            "Epoch 4/10\n",
            "25/25 [==============================] - 27s 1s/step - loss: 0.3671 - accuracy: 0.8487 - val_loss: 0.3142 - val_accuracy: 0.8800\n",
            "Epoch 5/10\n",
            "25/25 [==============================] - 27s 1s/step - loss: 0.3508 - accuracy: 0.8550 - val_loss: 0.3146 - val_accuracy: 0.9000\n",
            "Epoch 6/10\n",
            "25/25 [==============================] - 26s 1s/step - loss: 0.2942 - accuracy: 0.8863 - val_loss: 0.3344 - val_accuracy: 0.9000\n",
            "Epoch 7/10\n",
            "25/25 [==============================] - 26s 1s/step - loss: 0.2857 - accuracy: 0.8888 - val_loss: 0.2202 - val_accuracy: 0.9350\n",
            "Epoch 8/10\n",
            "25/25 [==============================] - 27s 1s/step - loss: 0.2656 - accuracy: 0.8913 - val_loss: 0.2541 - val_accuracy: 0.9250\n",
            "Epoch 9/10\n",
            "25/25 [==============================] - 27s 1s/step - loss: 0.2663 - accuracy: 0.8863 - val_loss: 0.2288 - val_accuracy: 0.9100\n",
            "Epoch 10/10\n",
            "25/25 [==============================] - 27s 1s/step - loss: 0.2526 - accuracy: 0.9000 - val_loss: 0.2299 - val_accuracy: 0.9300\n"
          ],
          "name": "stdout"
        },
        {
          "output_type": "execute_result",
          "data": {
            "text/plain": [
              "<tensorflow.python.keras.callbacks.History at 0x7fc577cd7550>"
            ]
          },
          "metadata": {
            "tags": []
          },
          "execution_count": 74
        }
      ]
    },
    {
      "cell_type": "code",
      "metadata": {
        "colab": {
          "base_uri": "https://localhost:8080/"
        },
        "id": "Oq_rnnHa4czz",
        "outputId": "ca2396e4-fcb1-456f-8a53-0485251dece1"
      },
      "source": [
        "#Evaluation \n",
        "scores = model.evaluate(x_test,y_test)\n",
        "print('Test Loss: ',scores[0])\n",
        "print('Test Accuracy: ',scores[1])"
      ],
      "execution_count": 75,
      "outputs": [
        {
          "output_type": "stream",
          "text": [
            "7/7 [==============================] - 2s 224ms/step - loss: 0.2299 - accuracy: 0.9300\n",
            "Test Loss:  0.22987380623817444\n",
            "Test Accuracy:  0.9300000071525574\n"
          ],
          "name": "stdout"
        }
      ]
    }
  ]
}