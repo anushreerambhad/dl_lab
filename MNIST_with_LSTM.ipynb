{
  "nbformat": 4,
  "nbformat_minor": 0,
  "metadata": {
    "colab": {
      "name": "MNIST with LSTM.ipynb",
      "provenance": []
    },
    "kernelspec": {
      "name": "python3",
      "display_name": "Python 3"
    },
    "language_info": {
      "name": "python"
    },
    "accelerator": "GPU"
  },
  "cells": [
    {
      "cell_type": "code",
      "metadata": {
        "id": "tdge1iBvHMqY"
      },
      "source": [
        "import keras\n",
        "from keras.datasets import mnist\n",
        "from keras.models import Model\n",
        "from keras.layers import Input,Dense,TimeDistributed\n",
        "from keras.layers import LSTM"
      ],
      "execution_count": 1,
      "outputs": []
    },
    {
      "cell_type": "code",
      "metadata": {
        "id": "rtfCJj5HIDJ2"
      },
      "source": [
        "batch_size = 32\n",
        "num_classes = 10\n",
        "epochs =5"
      ],
      "execution_count": 2,
      "outputs": []
    },
    {
      "cell_type": "code",
      "metadata": {
        "id": "70s3K7g0INwj"
      },
      "source": [
        "#embedding dimensions :\n",
        "row_hidden = 128\n",
        "col_hidden = 128"
      ],
      "execution_count": 3,
      "outputs": []
    },
    {
      "cell_type": "code",
      "metadata": {
        "colab": {
          "base_uri": "https://localhost:8080/"
        },
        "id": "offsBzEKIULG",
        "outputId": "b546dd73-abbe-466f-a900-9daef87d7319"
      },
      "source": [
        "(x_train,y_train),(x_test,y_test) = mnist.load_data()"
      ],
      "execution_count": 4,
      "outputs": [
        {
          "output_type": "stream",
          "text": [
            "Downloading data from https://storage.googleapis.com/tensorflow/tf-keras-datasets/mnist.npz\n",
            "11493376/11490434 [==============================] - 0s 0us/step\n"
          ],
          "name": "stdout"
        }
      ]
    },
    {
      "cell_type": "code",
      "metadata": {
        "colab": {
          "base_uri": "https://localhost:8080/"
        },
        "id": "WlB3VPbsIiLZ",
        "outputId": "2511a627-c1ed-49db-9741-fd3b831ef762"
      },
      "source": [
        "x_train = x_train.reshape(x_train.shape[0],28,28,1)\n",
        "x_train.shape"
      ],
      "execution_count": 5,
      "outputs": [
        {
          "output_type": "execute_result",
          "data": {
            "text/plain": [
              "(60000, 28, 28, 1)"
            ]
          },
          "metadata": {
            "tags": []
          },
          "execution_count": 5
        }
      ]
    },
    {
      "cell_type": "code",
      "metadata": {
        "colab": {
          "base_uri": "https://localhost:8080/"
        },
        "id": "SDJjfW0bJkhh",
        "outputId": "afbf7573-f83e-4da4-c72b-8856943f2ac8"
      },
      "source": [
        "x_test = x_test.reshape(x_test.shape[0],28,28,1)\n",
        "x_test.shape"
      ],
      "execution_count": 6,
      "outputs": [
        {
          "output_type": "execute_result",
          "data": {
            "text/plain": [
              "(10000, 28, 28, 1)"
            ]
          },
          "metadata": {
            "tags": []
          },
          "execution_count": 6
        }
      ]
    },
    {
      "cell_type": "code",
      "metadata": {
        "id": "lA-eEfurJwKf"
      },
      "source": [
        "x_train = x_train.astype('float32')\n",
        "x_test = x_test.astype('float32')"
      ],
      "execution_count": 7,
      "outputs": []
    },
    {
      "cell_type": "code",
      "metadata": {
        "id": "p5rZGP0mJ_wK"
      },
      "source": [
        "x_train = x_train/255\n",
        "x_test = x_test/255"
      ],
      "execution_count": 8,
      "outputs": []
    },
    {
      "cell_type": "code",
      "metadata": {
        "id": "GSAFs0eIKIAe"
      },
      "source": [
        "#converting class vectors to binary class metrics\n",
        "y_train = keras.utils.to_categorical(y_train,num_classes=10)\n",
        "y_test = keras.utils.to_categorical(y_test,num_classes)\n",
        "\n"
      ],
      "execution_count": 9,
      "outputs": []
    },
    {
      "cell_type": "code",
      "metadata": {
        "colab": {
          "base_uri": "https://localhost:8080/"
        },
        "id": "etqS7ekrNt69",
        "outputId": "0329dc67-adab-405e-ca4b-09218a4f2582"
      },
      "source": [
        "x_train.shape[1:]"
      ],
      "execution_count": 10,
      "outputs": [
        {
          "output_type": "execute_result",
          "data": {
            "text/plain": [
              "(28, 28, 1)"
            ]
          },
          "metadata": {
            "tags": []
          },
          "execution_count": 10
        }
      ]
    },
    {
      "cell_type": "code",
      "metadata": {
        "id": "dejr4K4mNzV7"
      },
      "source": [
        "row , col,pixel = x_train.shape[1:]"
      ],
      "execution_count": 11,
      "outputs": []
    },
    {
      "cell_type": "code",
      "metadata": {
        "id": "haT_0tgPN7aU"
      },
      "source": [
        "X= Input(shape=(row,col,pixel))"
      ],
      "execution_count": 12,
      "outputs": []
    },
    {
      "cell_type": "code",
      "metadata": {
        "colab": {
          "base_uri": "https://localhost:8080/"
        },
        "id": "Jr-dU2UyOCCS",
        "outputId": "19122fab-7cc5-4831-8038-b4c3ef73a18b"
      },
      "source": [
        "X"
      ],
      "execution_count": 13,
      "outputs": [
        {
          "output_type": "execute_result",
          "data": {
            "text/plain": [
              "<KerasTensor: shape=(None, 28, 28, 1) dtype=float32 (created by layer 'input_1')>"
            ]
          },
          "metadata": {
            "tags": []
          },
          "execution_count": 13
        }
      ]
    },
    {
      "cell_type": "code",
      "metadata": {
        "id": "9Hhv9iMNOLVY"
      },
      "source": [
        "#encode a row of pixels using Timedisrtibuted wrapper\n",
        "#TimeDistributed this wrapper applies a layer to every temporal slice of an input\n",
        "#considered to be the temporal dimesions.Batch size = 32 \n",
        "import tensorflow as tf\n",
        "encoded_rows = TimeDistributed(LSTM(row_hidden))(X)\n",
        "encoded_columns = LSTM(col_hidden)(encoded_rows) "
      ],
      "execution_count": 18,
      "outputs": []
    },
    {
      "cell_type": "code",
      "metadata": {
        "id": "O6iZRiZVQSMP"
      },
      "source": [
        "#Final predictions and model.\n",
        "prediction = Dense(num_classes,activation='softmax')(encoded_columns)\n",
        "model = Model(X,prediction)\n",
        "model.compile(loss='categorical_crossentropy',optimizer='rmsprop',metrics=['accuracy']) "
      ],
      "execution_count": 20,
      "outputs": []
    },
    {
      "cell_type": "code",
      "metadata": {
        "colab": {
          "base_uri": "https://localhost:8080/"
        },
        "id": "2ueSoo_1RmMg",
        "outputId": "9e045918-84c7-41d1-abf0-1450fad14ff3"
      },
      "source": [
        "model.fit(x_train,y_train,batch_size=batch_size,epochs=epochs ,verbose =1 ,validation_data=(x_test,y_test))"
      ],
      "execution_count": 22,
      "outputs": [
        {
          "output_type": "stream",
          "text": [
            "Epoch 1/5\n",
            "1875/1875 [==============================] - 54s 11ms/step - loss: 0.8600 - accuracy: 0.6981 - val_loss: 0.1295 - val_accuracy: 0.9604\n",
            "Epoch 2/5\n",
            "1875/1875 [==============================] - 20s 11ms/step - loss: 0.1357 - accuracy: 0.9591 - val_loss: 0.0608 - val_accuracy: 0.9815\n",
            "Epoch 3/5\n",
            "1875/1875 [==============================] - 20s 11ms/step - loss: 0.0779 - accuracy: 0.9759 - val_loss: 0.0807 - val_accuracy: 0.9747\n",
            "Epoch 4/5\n",
            "1875/1875 [==============================] - 20s 11ms/step - loss: 0.0611 - accuracy: 0.9814 - val_loss: 0.0622 - val_accuracy: 0.9814\n",
            "Epoch 5/5\n",
            "1875/1875 [==============================] - 20s 11ms/step - loss: 0.0535 - accuracy: 0.9838 - val_loss: 0.0515 - val_accuracy: 0.9845\n"
          ],
          "name": "stdout"
        },
        {
          "output_type": "execute_result",
          "data": {
            "text/plain": [
              "<tensorflow.python.keras.callbacks.History at 0x7f941471cf90>"
            ]
          },
          "metadata": {
            "tags": []
          },
          "execution_count": 22
        }
      ]
    },
    {
      "cell_type": "code",
      "metadata": {
        "colab": {
          "base_uri": "https://localhost:8080/"
        },
        "id": "or2uHOegSE7Z",
        "outputId": "2fea3993-9525-4925-8d78-e0eb3cf43de9"
      },
      "source": [
        "#Evaluation \n",
        "scores = model.evaluate(x_test,y_test)\n",
        "print('Test Loss: ',scores[0])\n",
        "print('Test Accuracy: ',scores[1])"
      ],
      "execution_count": 24,
      "outputs": [
        {
          "output_type": "stream",
          "text": [
            "313/313 [==============================] - 2s 5ms/step - loss: 0.0515 - accuracy: 0.9845\n",
            "Test Loss:  0.051462385803461075\n",
            "Test Accuracy:  0.984499990940094\n"
          ],
          "name": "stdout"
        }
      ]
    }
  ]
}