{
  "nbformat": 4,
  "nbformat_minor": 0,
  "metadata": {
    "colab": {
      "name": "time_series_withLSTM.ipynb",
      "provenance": []
    },
    "kernelspec": {
      "name": "python3",
      "display_name": "Python 3"
    },
    "language_info": {
      "name": "python"
    }
  },
  "cells": [
    {
      "cell_type": "code",
      "metadata": {
        "id": "iyqI2BqSYJXw"
      },
      "source": [
        "import numpy as np\n",
        "from tensorflow.keras.models import Sequential\n",
        "from tensorflow.keras.layers import LSTM\n",
        "from tensorflow.keras.layers import Dense\n",
        "from tensorflow.keras.layers import Flatten"
      ],
      "execution_count": null,
      "outputs": []
    },
    {
      "cell_type": "code",
      "metadata": {
        "id": "1AmIjEt4cduS"
      },
      "source": [
        "def data_converted_into_timeseries(data,batch_size):\n",
        "  timeseries=[]\n",
        "  output = []\n",
        "  for i in range(len(data)):\n",
        "    end_index = i + batch_size\n",
        "    if end_index > len(data)-1:\n",
        "      break\n",
        "    data_temp = data[i:end_index]\n",
        "    y_temp = data[end_index]\n",
        "    timeseries.append(data_temp)\n",
        "    output.append(y_temp)\n",
        "  return np.array(timeseries),np.array(output)"
      ],
      "execution_count": null,
      "outputs": []
    },
    {
      "cell_type": "code",
      "metadata": {
        "id": "NRAQO3nZfpa4"
      },
      "source": [
        "data = [110,125,133,146,158,172,187,196,210]\n",
        "batch_size = 3\n",
        "timeseries,output = data_converted_into_timeseries(data,batch_size)"
      ],
      "execution_count": null,
      "outputs": []
    },
    {
      "cell_type": "code",
      "metadata": {
        "colab": {
          "base_uri": "https://localhost:8080/"
        },
        "id": "EeGXqJ6SgCN8",
        "outputId": "e75e2d61-7b53-4f3c-aed3-9e3118e32c2c"
      },
      "source": [
        "data"
      ],
      "execution_count": null,
      "outputs": [
        {
          "output_type": "execute_result",
          "data": {
            "text/plain": [
              "[110, 125, 133, 146, 158, 172, 187, 196, 210]"
            ]
          },
          "metadata": {
            "tags": []
          },
          "execution_count": 5
        }
      ]
    },
    {
      "cell_type": "code",
      "metadata": {
        "colab": {
          "base_uri": "https://localhost:8080/"
        },
        "id": "h5vxFowfcCEt",
        "outputId": "6244026e-84f6-4305-b4de-91333dfff6e4"
      },
      "source": [
        "timeseries"
      ],
      "execution_count": null,
      "outputs": [
        {
          "output_type": "execute_result",
          "data": {
            "text/plain": [
              "array([[110, 125, 133],\n",
              "       [125, 133, 146],\n",
              "       [133, 146, 158],\n",
              "       [146, 158, 172],\n",
              "       [158, 172, 187],\n",
              "       [172, 187, 196]])"
            ]
          },
          "metadata": {
            "tags": []
          },
          "execution_count": 6
        }
      ]
    },
    {
      "cell_type": "code",
      "metadata": {
        "colab": {
          "base_uri": "https://localhost:8080/"
        },
        "id": "wM1sRabIgaq_",
        "outputId": "34688dd0-d752-454d-be19-f749b83f7084"
      },
      "source": [
        "output"
      ],
      "execution_count": null,
      "outputs": [
        {
          "output_type": "execute_result",
          "data": {
            "text/plain": [
              "array([146, 158, 172, 187, 196, 210])"
            ]
          },
          "metadata": {
            "tags": []
          },
          "execution_count": 7
        }
      ]
    },
    {
      "cell_type": "code",
      "metadata": {
        "colab": {
          "base_uri": "https://localhost:8080/"
        },
        "id": "1egURoHFgcsT",
        "outputId": "0005ccfb-8fe0-4c75-d837-4ca644cc619d"
      },
      "source": [
        "timeseries.shape"
      ],
      "execution_count": null,
      "outputs": [
        {
          "output_type": "execute_result",
          "data": {
            "text/plain": [
              "(6, 3)"
            ]
          },
          "metadata": {
            "tags": []
          },
          "execution_count": 8
        }
      ]
    },
    {
      "cell_type": "code",
      "metadata": {
        "colab": {
          "base_uri": "https://localhost:8080/"
        },
        "id": "EQ5BI7bOgzEJ",
        "outputId": "17936a72-5307-4960-b37e-548da22cb459"
      },
      "source": [
        "timeseries.shape[0]"
      ],
      "execution_count": null,
      "outputs": [
        {
          "output_type": "execute_result",
          "data": {
            "text/plain": [
              "6"
            ]
          },
          "metadata": {
            "tags": []
          },
          "execution_count": 9
        }
      ]
    },
    {
      "cell_type": "code",
      "metadata": {
        "colab": {
          "base_uri": "https://localhost:8080/"
        },
        "id": "63C7-7YSg6si",
        "outputId": "be0c5866-56a1-41e2-8d60-f6d024487cf1"
      },
      "source": [
        "timeseries.shape[1]"
      ],
      "execution_count": null,
      "outputs": [
        {
          "output_type": "execute_result",
          "data": {
            "text/plain": [
              "3"
            ]
          },
          "metadata": {
            "tags": []
          },
          "execution_count": 10
        }
      ]
    },
    {
      "cell_type": "code",
      "metadata": {
        "id": "IqtMjE7ahEy7"
      },
      "source": [
        "timeseries=timeseries.reshape(timeseries.shape[0],timeseries.shape[1],1)"
      ],
      "execution_count": null,
      "outputs": []
    },
    {
      "cell_type": "code",
      "metadata": {
        "colab": {
          "base_uri": "https://localhost:8080/"
        },
        "id": "Mgb7VlvohSae",
        "outputId": "0c468527-8379-402e-f907-54020809b8ef"
      },
      "source": [
        "timeseries.shape"
      ],
      "execution_count": null,
      "outputs": [
        {
          "output_type": "execute_result",
          "data": {
            "text/plain": [
              "(6, 3, 1)"
            ]
          },
          "metadata": {
            "tags": []
          },
          "execution_count": 14
        }
      ]
    },
    {
      "cell_type": "code",
      "metadata": {
        "id": "lWUo9AuIqbDn"
      },
      "source": [
        "model = Sequential()\n",
        "model.add(LSTM(50,activation='relu',return_sequences=True,input_shape=(timeseries.shape[1],timeseries.shape[2] ) ))"
      ],
      "execution_count": 16,
      "outputs": []
    },
    {
      "cell_type": "code",
      "metadata": {
        "id": "qpvjarR5s95d"
      },
      "source": [
        "\n",
        "model.add(Dense(1))\n",
        "model.compile(optimizer='adam',loss='mse')\n"
      ],
      "execution_count": 21,
      "outputs": []
    },
    {
      "cell_type": "code",
      "metadata": {
        "colab": {
          "base_uri": "https://localhost:8080/"
        },
        "id": "CO11r81Zu6-J",
        "outputId": "3ad43080-250e-49d3-ee06-5fedad361270"
      },
      "source": [
        "model.fit(timeseries,output,epochs=200,verbose=2)"
      ],
      "execution_count": 23,
      "outputs": [
        {
          "output_type": "stream",
          "text": [
            "Epoch 1/200\n",
            "1/1 - 2s - loss: 29495.2012\n",
            "Epoch 2/200\n",
            "1/1 - 0s - loss: 28250.7832\n",
            "Epoch 3/200\n",
            "1/1 - 0s - loss: 27103.3770\n",
            "Epoch 4/200\n",
            "1/1 - 0s - loss: 26139.0918\n",
            "Epoch 5/200\n",
            "1/1 - 0s - loss: 25343.7324\n",
            "Epoch 6/200\n",
            "1/1 - 0s - loss: 24694.3965\n",
            "Epoch 7/200\n",
            "1/1 - 0s - loss: 24132.0137\n",
            "Epoch 8/200\n",
            "1/1 - 0s - loss: 23540.0762\n",
            "Epoch 9/200\n",
            "1/1 - 0s - loss: 22900.9199\n",
            "Epoch 10/200\n",
            "1/1 - 0s - loss: 22204.4941\n",
            "Epoch 11/200\n",
            "1/1 - 0s - loss: 21436.0781\n",
            "Epoch 12/200\n",
            "1/1 - 0s - loss: 20617.6680\n",
            "Epoch 13/200\n",
            "1/1 - 0s - loss: 19754.8301\n",
            "Epoch 14/200\n",
            "1/1 - 0s - loss: 18805.7773\n",
            "Epoch 15/200\n",
            "1/1 - 0s - loss: 17735.5254\n",
            "Epoch 16/200\n",
            "1/1 - 0s - loss: 16563.4707\n",
            "Epoch 17/200\n",
            "1/1 - 0s - loss: 15281.1025\n",
            "Epoch 18/200\n",
            "1/1 - 0s - loss: 13865.3818\n",
            "Epoch 19/200\n",
            "1/1 - 0s - loss: 12347.5703\n",
            "Epoch 20/200\n",
            "1/1 - 0s - loss: 10788.3164\n",
            "Epoch 21/200\n",
            "1/1 - 0s - loss: 9216.9102\n",
            "Epoch 22/200\n",
            "1/1 - 0s - loss: 7661.7739\n",
            "Epoch 23/200\n",
            "1/1 - 0s - loss: 6164.0176\n",
            "Epoch 24/200\n",
            "1/1 - 0s - loss: 4754.9756\n",
            "Epoch 25/200\n",
            "1/1 - 0s - loss: 3419.7898\n",
            "Epoch 26/200\n",
            "1/1 - 0s - loss: 2211.9001\n",
            "Epoch 27/200\n",
            "1/1 - 0s - loss: 1282.8470\n",
            "Epoch 28/200\n",
            "1/1 - 0s - loss: 631.7747\n",
            "Epoch 29/200\n",
            "1/1 - 0s - loss: 216.0346\n",
            "Epoch 30/200\n",
            "1/1 - 0s - loss: 35.6659\n",
            "Epoch 31/200\n",
            "1/1 - 0s - loss: 80.9626\n",
            "Epoch 32/200\n",
            "1/1 - 0s - loss: 285.9135\n",
            "Epoch 33/200\n",
            "1/1 - 0s - loss: 522.2827\n",
            "Epoch 34/200\n",
            "1/1 - 0s - loss: 674.9899\n",
            "Epoch 35/200\n",
            "1/1 - 0s - loss: 643.3164\n",
            "Epoch 36/200\n",
            "1/1 - 0s - loss: 358.7807\n",
            "Epoch 37/200\n",
            "1/1 - 0s - loss: 109.0333\n",
            "Epoch 38/200\n",
            "1/1 - 0s - loss: 57.7720\n",
            "Epoch 39/200\n",
            "1/1 - 0s - loss: 43.6016\n",
            "Epoch 40/200\n",
            "1/1 - 0s - loss: 34.7291\n",
            "Epoch 41/200\n",
            "1/1 - 0s - loss: 30.3403\n",
            "Epoch 42/200\n",
            "1/1 - 0s - loss: 30.6941\n",
            "Epoch 43/200\n",
            "1/1 - 0s - loss: 27.7115\n",
            "Epoch 44/200\n",
            "1/1 - 0s - loss: 22.7853\n",
            "Epoch 45/200\n",
            "1/1 - 0s - loss: 18.7842\n",
            "Epoch 46/200\n",
            "1/1 - 0s - loss: 15.9591\n",
            "Epoch 47/200\n",
            "1/1 - 0s - loss: 14.8379\n",
            "Epoch 48/200\n",
            "1/1 - 0s - loss: 14.7871\n",
            "Epoch 49/200\n",
            "1/1 - 0s - loss: 14.9290\n",
            "Epoch 50/200\n",
            "1/1 - 0s - loss: 14.7033\n",
            "Epoch 51/200\n",
            "1/1 - 0s - loss: 14.0457\n",
            "Epoch 52/200\n",
            "1/1 - 0s - loss: 14.0371\n",
            "Epoch 53/200\n",
            "1/1 - 0s - loss: 14.6234\n",
            "Epoch 54/200\n",
            "1/1 - 0s - loss: 14.5320\n",
            "Epoch 55/200\n",
            "1/1 - 0s - loss: 14.0325\n",
            "Epoch 56/200\n",
            "1/1 - 0s - loss: 13.9147\n",
            "Epoch 57/200\n",
            "1/1 - 0s - loss: 14.2358\n",
            "Epoch 58/200\n",
            "1/1 - 0s - loss: 14.1469\n",
            "Epoch 59/200\n",
            "1/1 - 0s - loss: 13.7173\n",
            "Epoch 60/200\n",
            "1/1 - 0s - loss: 13.6167\n",
            "Epoch 61/200\n",
            "1/1 - 0s - loss: 13.7118\n",
            "Epoch 62/200\n",
            "1/1 - 0s - loss: 13.4807\n",
            "Epoch 63/200\n",
            "1/1 - 0s - loss: 13.0015\n",
            "Epoch 64/200\n",
            "1/1 - 0s - loss: 12.7336\n",
            "Epoch 65/200\n",
            "1/1 - 0s - loss: 12.5616\n",
            "Epoch 66/200\n",
            "1/1 - 0s - loss: 12.1214\n",
            "Epoch 67/200\n",
            "1/1 - 0s - loss: 11.7191\n",
            "Epoch 68/200\n",
            "1/1 - 0s - loss: 11.7670\n",
            "Epoch 69/200\n",
            "1/1 - 0s - loss: 11.6358\n",
            "Epoch 70/200\n",
            "1/1 - 0s - loss: 11.3171\n",
            "Epoch 71/200\n",
            "1/1 - 0s - loss: 11.2021\n",
            "Epoch 72/200\n",
            "1/1 - 0s - loss: 11.0253\n",
            "Epoch 73/200\n",
            "1/1 - 0s - loss: 10.5941\n",
            "Epoch 74/200\n",
            "1/1 - 0s - loss: 10.1222\n",
            "Epoch 75/200\n",
            "1/1 - 0s - loss: 9.8452\n",
            "Epoch 76/200\n",
            "1/1 - 0s - loss: 9.3796\n",
            "Epoch 77/200\n",
            "1/1 - 0s - loss: 8.7216\n",
            "Epoch 78/200\n",
            "1/1 - 0s - loss: 8.2174\n",
            "Epoch 79/200\n",
            "1/1 - 0s - loss: 7.6407\n",
            "Epoch 80/200\n",
            "1/1 - 0s - loss: 7.3557\n",
            "Epoch 81/200\n",
            "1/1 - 0s - loss: 6.7301\n",
            "Epoch 82/200\n",
            "1/1 - 0s - loss: 6.4556\n",
            "Epoch 83/200\n",
            "1/1 - 0s - loss: 6.5671\n",
            "Epoch 84/200\n",
            "1/1 - 0s - loss: 6.7212\n",
            "Epoch 85/200\n",
            "1/1 - 0s - loss: 5.7496\n",
            "Epoch 86/200\n",
            "1/1 - 0s - loss: 7.3539\n",
            "Epoch 87/200\n",
            "1/1 - 0s - loss: 6.4203\n",
            "Epoch 88/200\n",
            "1/1 - 0s - loss: 7.2815\n",
            "Epoch 89/200\n",
            "1/1 - 0s - loss: 4.9869\n",
            "Epoch 90/200\n",
            "1/1 - 0s - loss: 8.1068\n",
            "Epoch 91/200\n",
            "1/1 - 0s - loss: 5.2268\n",
            "Epoch 92/200\n",
            "1/1 - 0s - loss: 6.3893\n",
            "Epoch 93/200\n",
            "1/1 - 0s - loss: 5.3567\n",
            "Epoch 94/200\n",
            "1/1 - 0s - loss: 5.9744\n",
            "Epoch 95/200\n",
            "1/1 - 0s - loss: 5.3291\n",
            "Epoch 96/200\n",
            "1/1 - 0s - loss: 5.2939\n",
            "Epoch 97/200\n",
            "1/1 - 0s - loss: 4.2969\n",
            "Epoch 98/200\n",
            "1/1 - 0s - loss: 5.0959\n",
            "Epoch 99/200\n",
            "1/1 - 0s - loss: 3.7473\n",
            "Epoch 100/200\n",
            "1/1 - 0s - loss: 4.3355\n",
            "Epoch 101/200\n",
            "1/1 - 0s - loss: 3.6232\n",
            "Epoch 102/200\n",
            "1/1 - 0s - loss: 4.3244\n",
            "Epoch 103/200\n",
            "1/1 - 0s - loss: 3.4414\n",
            "Epoch 104/200\n",
            "1/1 - 0s - loss: 3.7366\n",
            "Epoch 105/200\n",
            "1/1 - 0s - loss: 3.4893\n",
            "Epoch 106/200\n",
            "1/1 - 0s - loss: 3.2763\n",
            "Epoch 107/200\n",
            "1/1 - 0s - loss: 3.5463\n",
            "Epoch 108/200\n",
            "1/1 - 0s - loss: 3.1110\n",
            "Epoch 109/200\n",
            "1/1 - 0s - loss: 3.3807\n",
            "Epoch 110/200\n",
            "1/1 - 0s - loss: 3.1368\n",
            "Epoch 111/200\n",
            "1/1 - 0s - loss: 3.1170\n",
            "Epoch 112/200\n",
            "1/1 - 0s - loss: 3.1326\n",
            "Epoch 113/200\n",
            "1/1 - 0s - loss: 2.9161\n",
            "Epoch 114/200\n",
            "1/1 - 0s - loss: 3.0364\n",
            "Epoch 115/200\n",
            "1/1 - 0s - loss: 2.7691\n",
            "Epoch 116/200\n",
            "1/1 - 0s - loss: 2.9617\n",
            "Epoch 117/200\n",
            "1/1 - 0s - loss: 2.6909\n",
            "Epoch 118/200\n",
            "1/1 - 0s - loss: 2.8384\n",
            "Epoch 119/200\n",
            "1/1 - 0s - loss: 2.6162\n",
            "Epoch 120/200\n",
            "1/1 - 0s - loss: 2.7615\n",
            "Epoch 121/200\n",
            "1/1 - 0s - loss: 2.5601\n",
            "Epoch 122/200\n",
            "1/1 - 0s - loss: 2.6209\n",
            "Epoch 123/200\n",
            "1/1 - 0s - loss: 2.4794\n",
            "Epoch 124/200\n",
            "1/1 - 0s - loss: 2.4922\n",
            "Epoch 125/200\n",
            "1/1 - 0s - loss: 2.4301\n",
            "Epoch 126/200\n",
            "1/1 - 0s - loss: 2.3707\n",
            "Epoch 127/200\n",
            "1/1 - 0s - loss: 2.3671\n",
            "Epoch 128/200\n",
            "1/1 - 0s - loss: 2.2486\n",
            "Epoch 129/200\n",
            "1/1 - 0s - loss: 2.2786\n",
            "Epoch 130/200\n",
            "1/1 - 0s - loss: 2.1512\n",
            "Epoch 131/200\n",
            "1/1 - 0s - loss: 2.1613\n",
            "Epoch 132/200\n",
            "1/1 - 0s - loss: 2.0792\n",
            "Epoch 133/200\n",
            "1/1 - 0s - loss: 1.9607\n",
            "Epoch 134/200\n",
            "1/1 - 0s - loss: 1.9963\n",
            "Epoch 135/200\n",
            "1/1 - 0s - loss: 1.9427\n",
            "Epoch 136/200\n",
            "1/1 - 0s - loss: 1.7793\n",
            "Epoch 137/200\n",
            "1/1 - 0s - loss: 1.7856\n",
            "Epoch 138/200\n",
            "1/1 - 0s - loss: 1.8319\n",
            "Epoch 139/200\n",
            "1/1 - 0s - loss: 1.6334\n",
            "Epoch 140/200\n",
            "1/1 - 0s - loss: 1.4799\n",
            "Epoch 141/200\n",
            "1/1 - 0s - loss: 1.4532\n",
            "Epoch 142/200\n",
            "1/1 - 0s - loss: 1.4220\n",
            "Epoch 143/200\n",
            "1/1 - 0s - loss: 1.4137\n",
            "Epoch 144/200\n",
            "1/1 - 0s - loss: 1.1960\n",
            "Epoch 145/200\n",
            "1/1 - 0s - loss: 0.9893\n",
            "Epoch 146/200\n",
            "1/1 - 0s - loss: 0.8668\n",
            "Epoch 147/200\n",
            "1/1 - 0s - loss: 0.9802\n",
            "Epoch 148/200\n",
            "1/1 - 0s - loss: 3.3369\n",
            "Epoch 149/200\n",
            "1/1 - 0s - loss: 15.0995\n",
            "Epoch 150/200\n",
            "1/1 - 0s - loss: 8.4484\n",
            "Epoch 151/200\n",
            "1/1 - 0s - loss: 2.6316\n",
            "Epoch 152/200\n",
            "1/1 - 0s - loss: 11.9118\n",
            "Epoch 153/200\n",
            "1/1 - 0s - loss: 3.0892\n",
            "Epoch 154/200\n",
            "1/1 - 0s - loss: 8.2082\n",
            "Epoch 155/200\n",
            "1/1 - 0s - loss: 5.7915\n",
            "Epoch 156/200\n",
            "1/1 - 0s - loss: 1.6221\n",
            "Epoch 157/200\n",
            "1/1 - 0s - loss: 6.9448\n",
            "Epoch 158/200\n",
            "1/1 - 0s - loss: 4.5859\n",
            "Epoch 159/200\n",
            "1/1 - 0s - loss: 1.8675\n",
            "Epoch 160/200\n",
            "1/1 - 0s - loss: 4.6044\n",
            "Epoch 161/200\n",
            "1/1 - 0s - loss: 4.7667\n",
            "Epoch 162/200\n",
            "1/1 - 0s - loss: 2.5087\n",
            "Epoch 163/200\n",
            "1/1 - 0s - loss: 2.8100\n",
            "Epoch 164/200\n",
            "1/1 - 0s - loss: 4.4179\n",
            "Epoch 165/200\n",
            "1/1 - 0s - loss: 3.1612\n",
            "Epoch 166/200\n",
            "1/1 - 0s - loss: 2.1613\n",
            "Epoch 167/200\n",
            "1/1 - 0s - loss: 3.1371\n",
            "Epoch 168/200\n",
            "1/1 - 0s - loss: 3.3849\n",
            "Epoch 169/200\n",
            "1/1 - 0s - loss: 2.3563\n",
            "Epoch 170/200\n",
            "1/1 - 0s - loss: 2.1918\n",
            "Epoch 171/200\n",
            "1/1 - 0s - loss: 3.0393\n",
            "Epoch 172/200\n",
            "1/1 - 0s - loss: 2.7356\n",
            "Epoch 173/200\n",
            "1/1 - 0s - loss: 2.0324\n",
            "Epoch 174/200\n",
            "1/1 - 0s - loss: 2.3626\n",
            "Epoch 175/200\n",
            "1/1 - 0s - loss: 2.6396\n",
            "Epoch 176/200\n",
            "1/1 - 0s - loss: 2.1803\n",
            "Epoch 177/200\n",
            "1/1 - 0s - loss: 1.8990\n",
            "Epoch 178/200\n",
            "1/1 - 0s - loss: 2.2344\n",
            "Epoch 179/200\n",
            "1/1 - 0s - loss: 2.2436\n",
            "Epoch 180/200\n",
            "1/1 - 0s - loss: 1.8265\n",
            "Epoch 181/200\n",
            "1/1 - 0s - loss: 1.8035\n",
            "Epoch 182/200\n",
            "1/1 - 0s - loss: 1.9753\n",
            "Epoch 183/200\n",
            "1/1 - 0s - loss: 1.8007\n",
            "Epoch 184/200\n",
            "1/1 - 0s - loss: 1.5985\n",
            "Epoch 185/200\n",
            "1/1 - 0s - loss: 1.7292\n",
            "Epoch 186/200\n",
            "1/1 - 0s - loss: 1.6650\n",
            "Epoch 187/200\n",
            "1/1 - 0s - loss: 1.4416\n",
            "Epoch 188/200\n",
            "1/1 - 0s - loss: 1.4912\n",
            "Epoch 189/200\n",
            "1/1 - 0s - loss: 1.5312\n",
            "Epoch 190/200\n",
            "1/1 - 0s - loss: 1.3604\n",
            "Epoch 191/200\n",
            "1/1 - 0s - loss: 1.2796\n",
            "Epoch 192/200\n",
            "1/1 - 0s - loss: 1.3468\n",
            "Epoch 193/200\n",
            "1/1 - 0s - loss: 1.2299\n",
            "Epoch 194/200\n",
            "1/1 - 0s - loss: 1.1491\n",
            "Epoch 195/200\n",
            "1/1 - 0s - loss: 1.1881\n",
            "Epoch 196/200\n",
            "1/1 - 0s - loss: 1.0970\n",
            "Epoch 197/200\n",
            "1/1 - 0s - loss: 1.0170\n",
            "Epoch 198/200\n",
            "1/1 - 0s - loss: 1.0521\n",
            "Epoch 199/200\n",
            "1/1 - 0s - loss: 0.9778\n",
            "Epoch 200/200\n",
            "1/1 - 0s - loss: 0.9019\n"
          ],
          "name": "stdout"
        },
        {
          "output_type": "execute_result",
          "data": {
            "text/plain": [
              "<tensorflow.python.keras.callbacks.History at 0x7f2d92bbc050>"
            ]
          },
          "metadata": {
            "tags": []
          },
          "execution_count": 23
        }
      ]
    },
    {
      "cell_type": "code",
      "metadata": {
        "colab": {
          "base_uri": "https://localhost:8080/"
        },
        "id": "-FzONl0xvNBL",
        "outputId": "76c6feb6-7a85-4493-ebd6-5e6a0ea9f586"
      },
      "source": [
        "x_test = np.array([187,196,210])\n",
        "temp_x_test = list(x_test)\n",
        "y_output = []\n",
        "i=0\n",
        "while(i<10):\n",
        "  if( len(temp_x_test)>3):\n",
        "    x_test = x_test.reshape((1,timeseries.shape[1],timeseries.shape[2]))\n",
        "    y_predicted = model.predict((x_test))\n",
        "    temp_x_test.append(y_predicted[0][0])\n",
        "    temp_x_test = temp_x_test[1:]\n",
        "    y_output.append(y_predicted[0][0])\n",
        "    i = i+1\n",
        "  else:\n",
        "    x_test = x_test.reshape((1,timeseries.shape[1],timeseries.shape[2]))\n",
        "    y_predicted = model.predict((x_test))\n",
        "    temp_x_test.append(y_predicted[0][0])\n",
        "    \n",
        "    y_output.append(y_predicted[0][0])\n",
        "    i = i+1\n",
        "print(y_output)"
      ],
      "execution_count": 28,
      "outputs": [
        {
          "output_type": "stream",
          "text": [
            "[224.36789, 224.36789, 224.36789, 224.36789, 224.36789, 224.36789, 224.36789, 224.36789, 224.36789, 224.36789]\n"
          ],
          "name": "stdout"
        }
      ]
    }
  ]
}