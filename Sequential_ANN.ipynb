{
  "nbformat": 4,
  "nbformat_minor": 0,
  "metadata": {
    "colab": {
      "name": "Sequential_ANN.ipynb",
      "provenance": []
    },
    "kernelspec": {
      "name": "python3",
      "display_name": "Python 3"
    },
    "language_info": {
      "name": "python"
    }
  },
  "cells": [
    {
      "cell_type": "code",
      "metadata": {
        "id": "scLCZkDqVftL"
      },
      "source": [
        "import numpy as np\n",
        "from random import randint\n",
        "from sklearn.utils import shuffle\n",
        "from sklearn.preprocessing import MinMaxScaler"
      ],
      "execution_count": 1,
      "outputs": []
    },
    {
      "cell_type": "code",
      "metadata": {
        "id": "7ed5bwlGVlmh"
      },
      "source": [
        "train_labels = []\n",
        "train_samples = []"
      ],
      "execution_count": 2,
      "outputs": []
    },
    {
      "cell_type": "code",
      "metadata": {
        "id": "5qNvq6NSVvYi"
      },
      "source": [
        "for i in range(50):\n",
        "    # The ~5% of younger individuals who did experience side effects\n",
        "    random_younger = randint(13,64)\n",
        "    train_samples.append(random_younger)\n",
        "    train_labels.append(1)\n",
        "    \n",
        "    # The ~5% of older individuals who did not experience side effects\n",
        "    random_older = randint(65,100)\n",
        "    train_samples.append(random_older)\n",
        "    train_labels.append(0)\n",
        "\n",
        "for i in range(1000):\n",
        "    # The ~95% of younger individuals who did not experience side effects\n",
        "    random_younger = randint(13,64)\n",
        "    train_samples.append(random_younger)\n",
        "    train_labels.append(0)\n",
        "    \n",
        "    # The ~95% of older individuals who did experience side effects\n",
        "    random_older = randint(65,100)\n",
        "    train_samples.append(random_older)\n",
        "    train_labels.append(1)"
      ],
      "execution_count": 3,
      "outputs": []
    },
    {
      "cell_type": "code",
      "metadata": {
        "id": "uRBhUmgEVxcR"
      },
      "source": [
        "train_labels = np.array(train_labels)\n",
        "train_samples = np.array(train_samples)\n",
        "train_labels, train_samples = shuffle(train_labels, train_samples)"
      ],
      "execution_count": 4,
      "outputs": []
    },
    {
      "cell_type": "code",
      "metadata": {
        "id": "WNGp5CW0W0yX"
      },
      "source": [
        "scaler = MinMaxScaler(feature_range=(0,1))\n",
        "scaled_train_samples = scaler.fit_transform(train_samples.reshape(-1,1))"
      ],
      "execution_count": 5,
      "outputs": []
    },
    {
      "cell_type": "code",
      "metadata": {
        "id": "YUoZb3gIXBBU"
      },
      "source": [
        "import tensorflow as tf\n",
        "from tensorflow import keras\n",
        "from tensorflow.keras.models import Sequential\n",
        "from tensorflow.keras.layers import Activation, Dense\n",
        "from tensorflow.keras.optimizers import Adam\n",
        "from tensorflow.keras.losses import categorical_crossentropy"
      ],
      "execution_count": 6,
      "outputs": []
    },
    {
      "cell_type": "code",
      "metadata": {
        "id": "RphNryR3XFxT"
      },
      "source": [
        "model = Sequential([\n",
        "    Dense(units=16, input_shape=(1,), activation='relu'),\n",
        "    Dense(units=32, activation='relu'),\n",
        "    Dense(units=2, activation='softmax')\n",
        "])"
      ],
      "execution_count": 7,
      "outputs": []
    },
    {
      "cell_type": "code",
      "metadata": {
        "colab": {
          "base_uri": "https://localhost:8080/"
        },
        "id": "OU1IeKnPXIrx",
        "outputId": "44e0ab6e-0a56-448d-ce77-a0de518867ae"
      },
      "source": [
        "\n",
        "model.summary()"
      ],
      "execution_count": 8,
      "outputs": [
        {
          "output_type": "stream",
          "text": [
            "Model: \"sequential\"\n",
            "_________________________________________________________________\n",
            "Layer (type)                 Output Shape              Param #   \n",
            "=================================================================\n",
            "dense (Dense)                (None, 16)                32        \n",
            "_________________________________________________________________\n",
            "dense_1 (Dense)              (None, 32)                544       \n",
            "_________________________________________________________________\n",
            "dense_2 (Dense)              (None, 2)                 66        \n",
            "=================================================================\n",
            "Total params: 642\n",
            "Trainable params: 642\n",
            "Non-trainable params: 0\n",
            "_________________________________________________________________\n"
          ],
          "name": "stdout"
        }
      ]
    },
    {
      "cell_type": "code",
      "metadata": {
        "id": "dUBL56B2Ww-5"
      },
      "source": [
        "model.compile(optimizer=Adam(learning_rate=0.0001), loss='sparse_categorical_crossentropy', metrics=['accuracy'])"
      ],
      "execution_count": 9,
      "outputs": []
    },
    {
      "cell_type": "code",
      "metadata": {
        "colab": {
          "base_uri": "https://localhost:8080/"
        },
        "id": "9RiSDvodXyNE",
        "outputId": "46da3768-9337-434a-8f0a-a62fbbd32b86"
      },
      "source": [
        "model.fit(x=scaled_train_samples, y=train_labels, batch_size=10, epochs=30, shuffle=True, verbose=2)"
      ],
      "execution_count": 10,
      "outputs": [
        {
          "output_type": "stream",
          "text": [
            "Epoch 1/30\n",
            "210/210 - 1s - loss: 0.6841 - accuracy: 0.5310\n",
            "Epoch 2/30\n",
            "210/210 - 0s - loss: 0.6653 - accuracy: 0.6738\n",
            "Epoch 3/30\n",
            "210/210 - 0s - loss: 0.6388 - accuracy: 0.7724\n",
            "Epoch 4/30\n",
            "210/210 - 0s - loss: 0.6081 - accuracy: 0.8033\n",
            "Epoch 5/30\n",
            "210/210 - 0s - loss: 0.5746 - accuracy: 0.8281\n",
            "Epoch 6/30\n",
            "210/210 - 0s - loss: 0.5421 - accuracy: 0.8362\n",
            "Epoch 7/30\n",
            "210/210 - 0s - loss: 0.5101 - accuracy: 0.8529\n",
            "Epoch 8/30\n",
            "210/210 - 0s - loss: 0.4793 - accuracy: 0.8638\n",
            "Epoch 9/30\n",
            "210/210 - 0s - loss: 0.4504 - accuracy: 0.8676\n",
            "Epoch 10/30\n",
            "210/210 - 0s - loss: 0.4241 - accuracy: 0.8900\n",
            "Epoch 11/30\n",
            "210/210 - 0s - loss: 0.4007 - accuracy: 0.8929\n",
            "Epoch 12/30\n",
            "210/210 - 0s - loss: 0.3802 - accuracy: 0.8981\n",
            "Epoch 13/30\n",
            "210/210 - 0s - loss: 0.3625 - accuracy: 0.9057\n",
            "Epoch 14/30\n",
            "210/210 - 0s - loss: 0.3475 - accuracy: 0.9133\n",
            "Epoch 15/30\n",
            "210/210 - 0s - loss: 0.3348 - accuracy: 0.9119\n",
            "Epoch 16/30\n",
            "210/210 - 0s - loss: 0.3242 - accuracy: 0.9214\n",
            "Epoch 17/30\n",
            "210/210 - 0s - loss: 0.3151 - accuracy: 0.9248\n",
            "Epoch 18/30\n",
            "210/210 - 0s - loss: 0.3073 - accuracy: 0.9286\n",
            "Epoch 19/30\n",
            "210/210 - 0s - loss: 0.3010 - accuracy: 0.9343\n",
            "Epoch 20/30\n",
            "210/210 - 0s - loss: 0.2954 - accuracy: 0.9305\n",
            "Epoch 21/30\n",
            "210/210 - 0s - loss: 0.2907 - accuracy: 0.9367\n",
            "Epoch 22/30\n",
            "210/210 - 0s - loss: 0.2868 - accuracy: 0.9352\n",
            "Epoch 23/30\n",
            "210/210 - 0s - loss: 0.2834 - accuracy: 0.9343\n",
            "Epoch 24/30\n",
            "210/210 - 0s - loss: 0.2802 - accuracy: 0.9352\n",
            "Epoch 25/30\n",
            "210/210 - 0s - loss: 0.2778 - accuracy: 0.9429\n",
            "Epoch 26/30\n",
            "210/210 - 0s - loss: 0.2754 - accuracy: 0.9395\n",
            "Epoch 27/30\n",
            "210/210 - 0s - loss: 0.2733 - accuracy: 0.9443\n",
            "Epoch 28/30\n",
            "210/210 - 0s - loss: 0.2714 - accuracy: 0.9443\n",
            "Epoch 29/30\n",
            "210/210 - 0s - loss: 0.2697 - accuracy: 0.9424\n",
            "Epoch 30/30\n",
            "210/210 - 0s - loss: 0.2683 - accuracy: 0.9443\n"
          ],
          "name": "stdout"
        },
        {
          "output_type": "execute_result",
          "data": {
            "text/plain": [
              "<tensorflow.python.keras.callbacks.History at 0x7fc81396f450>"
            ]
          },
          "metadata": {
            "tags": []
          },
          "execution_count": 10
        }
      ]
    }
  ]
}