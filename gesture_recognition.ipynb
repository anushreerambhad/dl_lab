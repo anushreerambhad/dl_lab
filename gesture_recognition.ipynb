{
  "nbformat": 4,
  "nbformat_minor": 0,
  "metadata": {
    "colab": {
      "name": "gesture_recognition.ipynb",
      "provenance": []
    },
    "kernelspec": {
      "name": "python3",
      "display_name": "Python 3"
    },
    "language_info": {
      "name": "python"
    }
  },
  "cells": [
    {
      "cell_type": "code",
      "metadata": {
        "id": "zjqHV2p9a-AI"
      },
      "source": [
        "import pandas as pd\n",
        "import matplotlib.pyplot as plt\n",
        "import seaborn as sns"
      ],
      "execution_count": 1,
      "outputs": []
    },
    {
      "cell_type": "code",
      "metadata": {
        "id": "dl4DYJ6TbA-7"
      },
      "source": [
        "df1=pd.read_csv('https://raw.githubusercontent.com/UNCG-DAISY/Tiny_Gesture/main/data/jump_set.csv')\n",
        "df2=pd.read_csv('https://raw.githubusercontent.com/UNCG-DAISY/Tiny_Gesture/main/data/other_set.csv')\n",
        "df3=pd.read_csv('https://raw.githubusercontent.com/UNCG-DAISY/Tiny_Gesture/main/data/run_set.csv')\n",
        "df4=pd.read_csv('https://raw.githubusercontent.com/UNCG-DAISY/Tiny_Gesture/main/data/squat_set.csv')\n",
        "df5=pd.read_csv('https://raw.githubusercontent.com/UNCG-DAISY/Tiny_Gesture/main/data/walk_set.csv')"
      ],
      "execution_count": 2,
      "outputs": []
    },
    {
      "cell_type": "code",
      "metadata": {
        "id": "RC1NgQq9bF8L"
      },
      "source": [
        "\n",
        "df1['gesture']=1\n",
        "df2['gesture']=2\n",
        "df3['gesture']=3\n",
        "df4['gesture']=4\n",
        "df5['gesture']=5"
      ],
      "execution_count": 3,
      "outputs": []
    },
    {
      "cell_type": "code",
      "metadata": {
        "id": "49QZ4qnCbI9M"
      },
      "source": [
        "\n",
        "df=pd.concat([df1,df2,df3,df4,df5],axis=0)"
      ],
      "execution_count": 4,
      "outputs": []
    },
    {
      "cell_type": "code",
      "metadata": {
        "colab": {
          "base_uri": "https://localhost:8080/",
          "height": 202
        },
        "id": "JgRpeItGbLei",
        "outputId": "f10c5631-01c6-42bb-e48b-396aea594560"
      },
      "source": [
        "\n",
        "df.head()"
      ],
      "execution_count": 5,
      "outputs": [
        {
          "output_type": "execute_result",
          "data": {
            "text/html": [
              "<div>\n",
              "<style scoped>\n",
              "    .dataframe tbody tr th:only-of-type {\n",
              "        vertical-align: middle;\n",
              "    }\n",
              "\n",
              "    .dataframe tbody tr th {\n",
              "        vertical-align: top;\n",
              "    }\n",
              "\n",
              "    .dataframe thead th {\n",
              "        text-align: right;\n",
              "    }\n",
              "</style>\n",
              "<table border=\"1\" class=\"dataframe\">\n",
              "  <thead>\n",
              "    <tr style=\"text-align: right;\">\n",
              "      <th></th>\n",
              "      <th>aX</th>\n",
              "      <th>aY</th>\n",
              "      <th>aZ</th>\n",
              "      <th>gX</th>\n",
              "      <th>gY</th>\n",
              "      <th>gZ</th>\n",
              "      <th>gesture</th>\n",
              "    </tr>\n",
              "  </thead>\n",
              "  <tbody>\n",
              "    <tr>\n",
              "      <th>0</th>\n",
              "      <td>-0.868</td>\n",
              "      <td>-0.676</td>\n",
              "      <td>0.086</td>\n",
              "      <td>-60.364</td>\n",
              "      <td>62.622</td>\n",
              "      <td>97.839</td>\n",
              "      <td>1</td>\n",
              "    </tr>\n",
              "    <tr>\n",
              "      <th>1</th>\n",
              "      <td>-0.777</td>\n",
              "      <td>-0.677</td>\n",
              "      <td>0.109</td>\n",
              "      <td>-58.716</td>\n",
              "      <td>79.651</td>\n",
              "      <td>104.553</td>\n",
              "      <td>1</td>\n",
              "    </tr>\n",
              "    <tr>\n",
              "      <th>2</th>\n",
              "      <td>-0.737</td>\n",
              "      <td>-0.622</td>\n",
              "      <td>0.066</td>\n",
              "      <td>-40.039</td>\n",
              "      <td>61.951</td>\n",
              "      <td>102.356</td>\n",
              "      <td>1</td>\n",
              "    </tr>\n",
              "    <tr>\n",
              "      <th>3</th>\n",
              "      <td>-0.727</td>\n",
              "      <td>-0.403</td>\n",
              "      <td>0.017</td>\n",
              "      <td>-14.832</td>\n",
              "      <td>33.936</td>\n",
              "      <td>95.459</td>\n",
              "      <td>1</td>\n",
              "    </tr>\n",
              "    <tr>\n",
              "      <th>4</th>\n",
              "      <td>-0.689</td>\n",
              "      <td>-0.249</td>\n",
              "      <td>-0.048</td>\n",
              "      <td>6.348</td>\n",
              "      <td>14.771</td>\n",
              "      <td>86.975</td>\n",
              "      <td>1</td>\n",
              "    </tr>\n",
              "  </tbody>\n",
              "</table>\n",
              "</div>"
            ],
            "text/plain": [
              "      aX     aY     aZ      gX      gY       gZ  gesture\n",
              "0 -0.868 -0.676  0.086 -60.364  62.622   97.839        1\n",
              "1 -0.777 -0.677  0.109 -58.716  79.651  104.553        1\n",
              "2 -0.737 -0.622  0.066 -40.039  61.951  102.356        1\n",
              "3 -0.727 -0.403  0.017 -14.832  33.936   95.459        1\n",
              "4 -0.689 -0.249 -0.048   6.348  14.771   86.975        1"
            ]
          },
          "metadata": {
            "tags": []
          },
          "execution_count": 5
        }
      ]
    },
    {
      "cell_type": "code",
      "metadata": {
        "id": "WSj8iEwDbN0K"
      },
      "source": [
        "\n",
        "d=pd.get_dummies(df,columns=['gesture'])"
      ],
      "execution_count": 6,
      "outputs": []
    },
    {
      "cell_type": "code",
      "metadata": {
        "id": "aRPLLWvvbRZs"
      },
      "source": [
        "\n",
        "from sklearn.model_selection import train_test_split"
      ],
      "execution_count": 7,
      "outputs": []
    },
    {
      "cell_type": "code",
      "metadata": {
        "id": "naImGJVebXKf"
      },
      "source": [
        "x=d[['aX','aY','aZ','gX','gY','gZ']]\n",
        "y=d[['gesture_1','gesture_2','gesture_3','gesture_4','gesture_5']]"
      ],
      "execution_count": 8,
      "outputs": []
    },
    {
      "cell_type": "code",
      "metadata": {
        "id": "HPSThn3zbbJ8"
      },
      "source": [
        "x_train, x_test, y_train, y_test = train_test_split(x, y, test_size=0.33, random_state=42)"
      ],
      "execution_count": 9,
      "outputs": []
    },
    {
      "cell_type": "code",
      "metadata": {
        "id": "o7gEQStnbfDb"
      },
      "source": [
        "\n",
        "from sklearn.preprocessing import MinMaxScaler"
      ],
      "execution_count": 10,
      "outputs": []
    },
    {
      "cell_type": "code",
      "metadata": {
        "id": "dyyI7ZxobhjW"
      },
      "source": [
        "sc=MinMaxScaler()"
      ],
      "execution_count": 11,
      "outputs": []
    },
    {
      "cell_type": "code",
      "metadata": {
        "colab": {
          "base_uri": "https://localhost:8080/"
        },
        "id": "Ct87pHwpbkAB",
        "outputId": "d509f6e9-fae9-4dbe-8af7-2c9cae676f46"
      },
      "source": [
        "\n",
        "sc.fit(x_train)"
      ],
      "execution_count": 12,
      "outputs": [
        {
          "output_type": "execute_result",
          "data": {
            "text/plain": [
              "MinMaxScaler(copy=True, feature_range=(0, 1))"
            ]
          },
          "metadata": {
            "tags": []
          },
          "execution_count": 12
        }
      ]
    },
    {
      "cell_type": "code",
      "metadata": {
        "id": "FQvGQ93NbmzW"
      },
      "source": [
        "x_train=sc.transform(x_train)"
      ],
      "execution_count": 13,
      "outputs": []
    },
    {
      "cell_type": "code",
      "metadata": {
        "id": "ksBtb7F4bpIm"
      },
      "source": [
        "\n",
        "x_test=sc.transform(x_test)"
      ],
      "execution_count": 14,
      "outputs": []
    },
    {
      "cell_type": "code",
      "metadata": {
        "id": "oCJuSPNdb11a"
      },
      "source": [
        "from tensorflow.keras.models import Sequential\n",
        "from tensorflow.keras.layers import Dense,Dropout"
      ],
      "execution_count": 15,
      "outputs": []
    },
    {
      "cell_type": "code",
      "metadata": {
        "id": "oBEP0kBub5zA"
      },
      "source": [
        "model=Sequential()\n",
        "model.add(Dense(512,activation='relu',input_dim=6))\n",
        "model.add(Dense(256,activation='relu'))\n",
        "model.add(Dense(128,activation='relu'))\n",
        "\n",
        "model.add(Dense(5,activation='softmax'))\n",
        "model.compile(loss='categorical_crossentropy',optimizer='adam',metrics=['accuracy'])\n"
      ],
      "execution_count": 17,
      "outputs": []
    },
    {
      "cell_type": "code",
      "metadata": {
        "colab": {
          "base_uri": "https://localhost:8080/"
        },
        "id": "RxlwRluMb7aU",
        "outputId": "68bbc192-fe0f-4401-d80c-766ddb85e6ca"
      },
      "source": [
        "model.summary()"
      ],
      "execution_count": 18,
      "outputs": [
        {
          "output_type": "stream",
          "text": [
            "Model: \"sequential\"\n",
            "_________________________________________________________________\n",
            "Layer (type)                 Output Shape              Param #   \n",
            "=================================================================\n",
            "dense (Dense)                (None, 512)               3584      \n",
            "_________________________________________________________________\n",
            "dense_1 (Dense)              (None, 256)               131328    \n",
            "_________________________________________________________________\n",
            "dense_2 (Dense)              (None, 128)               32896     \n",
            "_________________________________________________________________\n",
            "dense_3 (Dense)              (None, 5)                 645       \n",
            "=================================================================\n",
            "Total params: 168,453\n",
            "Trainable params: 168,453\n",
            "Non-trainable params: 0\n",
            "_________________________________________________________________\n"
          ],
          "name": "stdout"
        }
      ]
    },
    {
      "cell_type": "code",
      "metadata": {
        "colab": {
          "base_uri": "https://localhost:8080/"
        },
        "id": "k2IwB5Gbb_hv",
        "outputId": "cf316711-a661-40dc-d01d-e79057d551e2"
      },
      "source": [
        "model.fit(x=x_train,y=y_train,epochs=5)\n"
      ],
      "execution_count": 19,
      "outputs": [
        {
          "output_type": "stream",
          "text": [
            "Epoch 1/5\n",
            "1246/1246 [==============================] - 4s 3ms/step - loss: 1.2961 - accuracy: 0.4144\n",
            "Epoch 2/5\n",
            "1246/1246 [==============================] - 4s 3ms/step - loss: 0.9134 - accuracy: 0.6039\n",
            "Epoch 3/5\n",
            "1246/1246 [==============================] - 4s 3ms/step - loss: 0.7588 - accuracy: 0.6804\n",
            "Epoch 4/5\n",
            "1246/1246 [==============================] - 4s 3ms/step - loss: 0.7188 - accuracy: 0.6943\n",
            "Epoch 5/5\n",
            "1246/1246 [==============================] - 4s 3ms/step - loss: 0.6751 - accuracy: 0.7159\n"
          ],
          "name": "stdout"
        },
        {
          "output_type": "execute_result",
          "data": {
            "text/plain": [
              "<tensorflow.python.keras.callbacks.History at 0x7f21f3997f50>"
            ]
          },
          "metadata": {
            "tags": []
          },
          "execution_count": 19
        }
      ]
    },
    {
      "cell_type": "code",
      "metadata": {
        "id": "dbER7BzWcFpX"
      },
      "source": [
        "p=model.predict(x_test)"
      ],
      "execution_count": 21,
      "outputs": []
    },
    {
      "cell_type": "code",
      "metadata": {
        "colab": {
          "base_uri": "https://localhost:8080/"
        },
        "id": "Lrfq9qE-cbwh",
        "outputId": "be1a548a-e29f-4d59-b8d4-41e31a66e3bb"
      },
      "source": [
        "pp=p.argmax(axis=1)\n",
        "j=y_test.values\n",
        "jj=j.argmax(axis=1)\n",
        "len(jj[jj==1])"
      ],
      "execution_count": 22,
      "outputs": [
        {
          "output_type": "execute_result",
          "data": {
            "text/plain": [
              "3867"
            ]
          },
          "metadata": {
            "tags": []
          },
          "execution_count": 22
        }
      ]
    },
    {
      "cell_type": "code",
      "metadata": {
        "colab": {
          "base_uri": "https://localhost:8080/"
        },
        "id": "4wU6apAIcf-x",
        "outputId": "e17002d2-dc78-4786-ff4e-c1bd98126ebf"
      },
      "source": [
        "from sklearn.metrics import confusion_matrix\n",
        "print(confusion_matrix(jj,pp))"
      ],
      "execution_count": 23,
      "outputs": [
        {
          "output_type": "stream",
          "text": [
            "[[2965   82  418  321  201]\n",
            " [   6 3861    0    0    0]\n",
            " [ 814   57 2232  619  157]\n",
            " [ 904   60  223 2642   78]\n",
            " [ 313  264   63   18 3337]]\n"
          ],
          "name": "stdout"
        }
      ]
    }
  ]
}