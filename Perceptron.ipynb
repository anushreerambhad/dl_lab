{
  "nbformat": 4,
  "nbformat_minor": 0,
  "metadata": {
    "colab": {
      "name": "Perceptron.ipynb",
      "provenance": []
    },
    "kernelspec": {
      "name": "python3",
      "display_name": "Python 3"
    },
    "language_info": {
      "name": "python"
    }
  },
  "cells": [
    {
      "cell_type": "code",
      "metadata": {
        "id": "bIljJHPTVDEH"
      },
      "source": [
        "import numpy as np\n",
        "import matplotlib.pyplot as plt\n",
        "import tqdm"
      ],
      "execution_count": 1,
      "outputs": []
    },
    {
      "cell_type": "code",
      "metadata": {
        "id": "CcXrQRdWVGvs"
      },
      "source": [
        "# Transfer/Activation Functions\n",
        "def step(x):\n",
        "  return x >= 0"
      ],
      "execution_count": 2,
      "outputs": []
    },
    {
      "cell_type": "code",
      "metadata": {
        "id": "6hSf8z75VKnB"
      },
      "source": [
        "class Perceptron:\n",
        "  def __init__(self,features=1, alpha=0.1, bias=np.random.normal(loc=0.0,scale=0.01), weights=None, activation=step):\n",
        "    if weights is None:\n",
        "      self.weights=np.random.normal(loc=0.0, scale=0.01, size=features).transpose()\n",
        "    else: self.weights = weights \n",
        "    self.activation = activation\n",
        "    self.alpha = alpha\n",
        "    self.bias=bias\n",
        "    self.features = features\n",
        "\n",
        "  def __predict(self, inputn): # Private Function\n",
        "    # implement prediction of 1 instance\n",
        "    if self.features is 1:\n",
        "      return self.activation(self.weights*inputn + self.bias)[0]\n",
        "    else:\n",
        "     return self.activation(self.weights.dot(inputn.transpose()) + self.bias)\n",
        "    \n",
        "      \n",
        "      \n",
        "  def cost(self, inputn, outputn ):\n",
        "    # Implement the cost function\n",
        "    return self.__predict(inputn) - outputn\n",
        "  def predict(self, inputs):\n",
        "      if self.features is 1:\n",
        "        return self.activation(self.weights*(inputs) + self.bias)\n",
        "      else:\n",
        "        return self.activation(self.weights.dot(inputs.transpose()) + self.bias)\n",
        "      \n",
        "        \n",
        "  \n",
        "\n",
        "  def train(self, inputs, outputs, epochs=1):   \n",
        "    t = tqdm.tqdm(range(epochs))\n",
        "    for epoch in t:\n",
        "      for i, inputn in enumerate(inputs):\n",
        "        delta = self.__predict(inputn) - outputs[i]\n",
        "        t.set_postfix({\"loss\": delta})\n",
        "        #print(delta, inputn, outputs[i], self.weights, self.bias)\n",
        "        self.weight_update(delta, inputn)\n",
        "\n",
        "  \n",
        "  def weight_update(self, delta, inputs):\n",
        "      self.weights = self.weights - self.alpha*delta*(inputs)\n",
        "      self.bias = self.bias - self.alpha*delta\n",
        "      #print(self.weights, self.bias)"
      ],
      "execution_count": 3,
      "outputs": []
    },
    {
      "cell_type": "code",
      "metadata": {
        "id": "g5vtqynLVchB"
      },
      "source": [
        "perceptron=Perceptron(features=2) # Single Perceptron"
      ],
      "execution_count": 4,
      "outputs": []
    },
    {
      "cell_type": "code",
      "metadata": {
        "id": "rU8tShiIVjjh"
      },
      "source": [
        "# Input output for AND Gate\n",
        "X = np.array([[0,0],\n",
        "              [0,1],\n",
        "              [1,0],\n",
        "              [1,1]\n",
        "              ])\n",
        "Y = np.array([0,\n",
        "              0,\n",
        "              0,\n",
        "              1\n",
        "              ])"
      ],
      "execution_count": 5,
      "outputs": []
    },
    {
      "cell_type": "code",
      "metadata": {
        "colab": {
          "base_uri": "https://localhost:8080/",
          "height": 269
        },
        "id": "OrRWBJCTVngL",
        "outputId": "fd2b7636-0a6b-4af7-e011-74f3b7665d6b"
      },
      "source": [
        "x=np.linspace(-0.5, 1.5, 200)\n",
        "\n",
        "xx, yy = np.meshgrid(x, x)\n",
        "Z = perceptron.predict(np.array([xx.ravel(),yy.ravel()]).T)\n",
        "\n",
        "plt.contourf(xx, yy, Z.reshape(xx.shape), levels=1)\n",
        "plt.scatter(X[:,0],X[:,1])\n",
        "plt.xlim([-0.5,1.5])\n",
        "plt.ylim([-0.5,1.5])\n",
        "plt.colorbar();"
      ],
      "execution_count": 6,
      "outputs": [
        {
          "output_type": "display_data",
          "data": {
            "image/png": "[encoded data removed]",
            "text/plain": [
              "<Figure size 432x288 with 2 Axes>"
            ]
          },
          "metadata": {
            "tags": [],
            "needs_background": "light"
          }
        }
      ]
    },
    {
      "cell_type": "code",
      "metadata": {
        "colab": {
          "base_uri": "https://localhost:8080/"
        },
        "id": "W7B7GrF_Vo6s",
        "outputId": "0c900372-93a2-4a3f-fa61-5a6e0ba9b83c"
      },
      "source": [
        "perceptron.predict(X)"
      ],
      "execution_count": 7,
      "outputs": [
        {
          "output_type": "execute_result",
          "data": {
            "text/plain": [
              "array([ True,  True,  True,  True])"
            ]
          },
          "metadata": {
            "tags": []
          },
          "execution_count": 7
        }
      ]
    },
    {
      "cell_type": "code",
      "metadata": {
        "colab": {
          "base_uri": "https://localhost:8080/"
        },
        "id": "p2vXZR7TVuzz",
        "outputId": "6f1a2cd8-2e86-4253-8a92-ea82326d6a4b"
      },
      "source": [
        "perceptron.train(X,Y,epochs=20)"
      ],
      "execution_count": 8,
      "outputs": [
        {
          "output_type": "stream",
          "text": [
            "100%|██████████| 20/20 [00:00<00:00, 143.03it/s, loss=0]\n"
          ],
          "name": "stderr"
        }
      ]
    },
    {
      "cell_type": "code",
      "metadata": {
        "colab": {
          "base_uri": "https://localhost:8080/",
          "height": 269
        },
        "id": "hacM52RXVzKr",
        "outputId": "e9e63960-521f-494f-fe6c-d849f4fc0611"
      },
      "source": [
        "x=np.linspace(-0.5, 1.5, 200)\n",
        "\n",
        "xx, yy = np.meshgrid(x, x)\n",
        "Z = perceptron.predict(np.array([xx.ravel(),yy.ravel()]).T)\n",
        "\n",
        "plt.contourf(xx, yy, Z.reshape(xx.shape), levels=1)\n",
        "plt.scatter(X[:,0],X[:,1])\n",
        "plt.xlim([-0.5,1.5])\n",
        "plt.ylim([-0.5,1.5])\n",
        "plt.colorbar();"
      ],
      "execution_count": 9,
      "outputs": [
        {
          "output_type": "display_data",
          "data": {
            "image/png": "[encoded data removed]",
            "text/plain": [
              "<Figure size 432x288 with 2 Axes>"
            ]
          },
          "metadata": {
            "tags": [],
            "needs_background": "light"
          }
        }
      ]
    },
    {
      "cell_type": "code",
      "metadata": {
        "colab": {
          "base_uri": "https://localhost:8080/"
        },
        "id": "dtcHJFXKV2ri",
        "outputId": "4f574445-6bbd-48ee-c8d1-00169b50bd3f"
      },
      "source": [
        "perceptron.predict(X)"
      ],
      "execution_count": 10,
      "outputs": [
        {
          "output_type": "execute_result",
          "data": {
            "text/plain": [
              "array([False, False, False,  True])"
            ]
          },
          "metadata": {
            "tags": []
          },
          "execution_count": 10
        }
      ]
    },
    {
      "cell_type": "code",
      "metadata": {
        "id": "4k_6l8GZV9fA"
      },
      "source": [
        "# Input output for AND Gate\n",
        "X = np.array([[0,0],\n",
        "              [0,1],\n",
        "              [1,0],\n",
        "              [1,1]\n",
        "              ])\n",
        "Y = np.array([1,\n",
        "              1,\n",
        "              1,\n",
        "              0\n",
        "              ])"
      ],
      "execution_count": 11,
      "outputs": []
    },
    {
      "cell_type": "code",
      "metadata": {
        "id": "l4bFAvutWAyh"
      },
      "source": [
        "perceptron=Perceptron(features=2)"
      ],
      "execution_count": 12,
      "outputs": []
    },
    {
      "cell_type": "code",
      "metadata": {
        "colab": {
          "base_uri": "https://localhost:8080/",
          "height": 269
        },
        "id": "IdMyVlvtWEX4",
        "outputId": "7c9fb541-ae40-4a36-9a17-4f1d154090af"
      },
      "source": [
        "x=np.linspace(-0.5, 1.5, 200)\n",
        "\n",
        "xx, yy = np.meshgrid(x, x)\n",
        "Z = perceptron.predict(np.array([xx.ravel(),yy.ravel()]).T)\n",
        "\n",
        "plt.contourf(xx, yy, Z.reshape(xx.shape), levels=1)\n",
        "plt.scatter(X[:,0],X[:,1])\n",
        "plt.xlim([-0.5,1.5])\n",
        "plt.ylim([-0.5,1.5])\n",
        "plt.colorbar();\n"
      ],
      "execution_count": 13,
      "outputs": [
        {
          "output_type": "display_data",
          "data": {
            "image/png": "[encoded data removed]",
            "text/plain": [
              "<Figure size 432x288 with 2 Axes>"
            ]
          },
          "metadata": {
            "tags": [],
            "needs_background": "light"
          }
        }
      ]
    },
    {
      "cell_type": "code",
      "metadata": {
        "colab": {
          "base_uri": "https://localhost:8080/"
        },
        "id": "DKABlaNDWIOF",
        "outputId": "95c9b774-27ce-4aae-f86c-714100af1f5e"
      },
      "source": [
        "perceptron.predict(X)"
      ],
      "execution_count": 14,
      "outputs": [
        {
          "output_type": "execute_result",
          "data": {
            "text/plain": [
              "array([ True,  True,  True,  True])"
            ]
          },
          "metadata": {
            "tags": []
          },
          "execution_count": 14
        }
      ]
    },
    {
      "cell_type": "code",
      "metadata": {
        "colab": {
          "base_uri": "https://localhost:8080/"
        },
        "id": "WVF7psT4WKuV",
        "outputId": "c1c6653f-b43f-4bed-dd8e-8f5bb0dbfded"
      },
      "source": [
        "\n",
        "perceptron.train(X,Y,epochs=20)"
      ],
      "execution_count": 15,
      "outputs": [
        {
          "output_type": "stream",
          "text": [
            "100%|██████████| 20/20 [00:00<00:00, 136.68it/s, loss=0]\n"
          ],
          "name": "stderr"
        }
      ]
    },
    {
      "cell_type": "code",
      "metadata": {
        "colab": {
          "base_uri": "https://localhost:8080/",
          "height": 269
        },
        "id": "GAuvrCv1WNai",
        "outputId": "949bcb06-7d71-4d23-d62e-6c50b452e796"
      },
      "source": [
        "\n",
        "xx, yy = np.meshgrid(x, x)\n",
        "Z = perceptron.predict(np.array([xx.ravel(),yy.ravel()]).T)\n",
        "\n",
        "plt.contourf(xx, yy, Z.reshape(xx.shape), levels=1)\n",
        "plt.scatter(X[:,0],X[:,1])\n",
        "plt.xlim([-0.5,1.5])\n",
        "plt.ylim([-0.5,1.5])\n",
        "plt.colorbar();"
      ],
      "execution_count": 16,
      "outputs": [
        {
          "output_type": "display_data",
          "data": {
            "image/png": "[encoded data removed]",
            "text/plain": [
              "<Figure size 432x288 with 2 Axes>"
            ]
          },
          "metadata": {
            "tags": [],
            "needs_background": "light"
          }
        }
      ]
    },
    {
      "cell_type": "code",
      "metadata": {
        "colab": {
          "base_uri": "https://localhost:8080/"
        },
        "id": "4GZgOpqEWQVy",
        "outputId": "fbb6366c-96bd-482c-db9d-ebd1b8101ac8"
      },
      "source": [
        "\n",
        "perceptron.predict(X)"
      ],
      "execution_count": 18,
      "outputs": [
        {
          "output_type": "execute_result",
          "data": {
            "text/plain": [
              "array([ True,  True,  True, False])"
            ]
          },
          "metadata": {
            "tags": []
          },
          "execution_count": 18
        }
      ]
    }
  ]
}